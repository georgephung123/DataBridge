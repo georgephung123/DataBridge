{
 "cells": [
  {
   "cell_type": "markdown",
   "id": "bb0ae99e",
   "metadata": {},
   "source": [
    "# AMP Dataset Analysis\n",
    "By: George Phung\n",
    "Date: 08-10-2025"
   ]
  },
  {
   "cell_type": "code",
   "execution_count": 41,
   "id": "b4ec4a9a",
   "metadata": {},
   "outputs": [],
   "source": [
    "# essentials\n",
    "import pandas as pd\n",
    "import numpy as np\n",
    "# data viz packages\n",
    "import matplotlib as plt\n",
    "import plotly.express as px\n",
    "import plotly.graph_objects as go\n",
    "import seaborn as sns\n",
    "# stats packages\n",
    "import scipy as stats\n",
    "from scipy.stats import shapiro"
   ]
  },
  {
   "cell_type": "markdown",
   "id": "c66e3f13",
   "metadata": {},
   "source": [
    "# Questions\n",
    "For each tested methanogena, which AMPs are successful?\n",
    "1.\tData sources\n",
    "    a.\tFound in AMP data files (E. coli, M. boviskoreani, M. gottschalkii, M.rumination)\n",
    "    b.\tLook at the PNGs, AMPs (y-axis) with an x-axis value to the left of the red line are “successful” – to the right is “unsuccessful”\n",
    "        i.\tNote that multiple replicates, those will need to be avg’d together\n",
    "2.\tActions\n",
    "    a.\tTake avg of replicates in combined_amp_data\n",
    "    b.\tCreate new column noting ‘successful’ or ‘unsuccessful’ for each methanogen \n",
    "3.\tOutputs\n",
    "    a.\tReturn 3 data files, one for each PNG’d species, with binary success column. Also return 1 file combining those 3\n",
    "\n",
    "When looking at the methanogens that AMPs were successful against, what is common and what is distinct about the lipid compositions?\n",
    "1.\tData sources\n",
    "    a.\tThe output combined file from the above question\n",
    "2.\tActions\n",
    "    a.\tTake the returned individual data files above (i.e., for one methanogen) and for that methanogen \n",
    "For each possible AMP, at each possible concentration, create individual frames to have and pull\n"
   ]
  },
  {
   "cell_type": "code",
   "execution_count": 42,
   "id": "deab223c",
   "metadata": {},
   "outputs": [],
   "source": [
    "# Reading the xlsx files\n",
    "\n",
    "# stole it from jonathans code lmao\n",
    "df = pd.read_excel(r\"C:\\Users\\georg\\Downloads\\DataBridge_Fall2025\\lipid_analysis_biomedit 2\\lipid_analysis_biomedit\\data_files\\amp_data\\input\\Compiled AMP data - normalized.xlsx\", \\\n",
    "                   sheet_name=\"AMP normalized - compiled\", skiprows=4)\n",
    "amp_data = df.copy()\n",
    "#dropping column not found in the second data file\n",
    "amp_data.drop(columns='Assay_date', inplace=True)\n",
    "amp_data['filesource'] = \"excel file 1\"\n",
    "#dividing the percent growth col by 100 so both files have the percentage as decimals (which match the PNGs)\n",
    "amp_data['percent_growth_inhibition_compared_to_no_addition_ctrl'] = amp_data['percent_growth_inhibition_compared_to_no_addition_ctrl'] / 100\n",
    "\n",
    "#reading in the second data file\n",
    "df2 = pd.read_excel(r\"C:\\Users\\georg\\Downloads\\DataBridge_Fall2025\\lipid_analysis_biomedit 2\\lipid_analysis_biomedit\\data_files\\amp_data\\input\\PercentGrowth_2nd_round_peptides.xlsx\", \\\n",
    "                    sheet_name=\"PercentGrowth_2nd_round_peptide\")\n",
    "amp2_data = df2.copy()\n",
    "#dropping unique column not found in the first file\n",
    "amp2_data.drop(columns='index_ID', inplace=True)\n",
    "amp2_data['filesource'] = \"txt file 2\"\n",
    "\n",
    "#combining the data files into one\n",
    "full_amp_data = pd.concat([amp_data, amp2_data], ignore_index=True)"
   ]
  },
  {
   "cell_type": "code",
   "execution_count": 43,
   "id": "c4ba3e1f",
   "metadata": {},
   "outputs": [
    {
     "data": {
      "text/html": [
       "<div>\n",
       "<style scoped>\n",
       "    .dataframe tbody tr th:only-of-type {\n",
       "        vertical-align: middle;\n",
       "    }\n",
       "\n",
       "    .dataframe tbody tr th {\n",
       "        vertical-align: top;\n",
       "    }\n",
       "\n",
       "    .dataframe thead th {\n",
       "        text-align: right;\n",
       "    }\n",
       "</style>\n",
       "<table border=\"1\" class=\"dataframe\">\n",
       "  <thead>\n",
       "    <tr style=\"text-align: right;\">\n",
       "      <th></th>\n",
       "      <th>AMP_ID</th>\n",
       "      <th>Methanogen_species</th>\n",
       "      <th>percent_growth_inhibition_compared_to_no_addition_ctrl</th>\n",
       "      <th>Concentration</th>\n",
       "      <th>Incubation_time</th>\n",
       "      <th>filesource</th>\n",
       "    </tr>\n",
       "  </thead>\n",
       "  <tbody>\n",
       "    <tr>\n",
       "      <th>0</th>\n",
       "      <td>m3-m10</td>\n",
       "      <td>Mruminantium</td>\n",
       "      <td>0.939606</td>\n",
       "      <td>10uM</td>\n",
       "      <td>96h</td>\n",
       "      <td>excel file 1</td>\n",
       "    </tr>\n",
       "    <tr>\n",
       "      <th>1</th>\n",
       "      <td>m10-m3</td>\n",
       "      <td>Mruminantium</td>\n",
       "      <td>0.998813</td>\n",
       "      <td>10uM</td>\n",
       "      <td>96h</td>\n",
       "      <td>excel file 1</td>\n",
       "    </tr>\n",
       "    <tr>\n",
       "      <th>2</th>\n",
       "      <td>m3-m5</td>\n",
       "      <td>Mruminantium</td>\n",
       "      <td>0.909472</td>\n",
       "      <td>10uM</td>\n",
       "      <td>96h</td>\n",
       "      <td>excel file 1</td>\n",
       "    </tr>\n",
       "    <tr>\n",
       "      <th>3</th>\n",
       "      <td>m3-m6</td>\n",
       "      <td>Mruminantium</td>\n",
       "      <td>0.979233</td>\n",
       "      <td>10uM</td>\n",
       "      <td>96h</td>\n",
       "      <td>excel file 1</td>\n",
       "    </tr>\n",
       "    <tr>\n",
       "      <th>4</th>\n",
       "      <td>m3-m7</td>\n",
       "      <td>Mruminantium</td>\n",
       "      <td>1.004577</td>\n",
       "      <td>10uM</td>\n",
       "      <td>96h</td>\n",
       "      <td>excel file 1</td>\n",
       "    </tr>\n",
       "    <tr>\n",
       "      <th>...</th>\n",
       "      <td>...</td>\n",
       "      <td>...</td>\n",
       "      <td>...</td>\n",
       "      <td>...</td>\n",
       "      <td>...</td>\n",
       "      <td>...</td>\n",
       "    </tr>\n",
       "    <tr>\n",
       "      <th>524</th>\n",
       "      <td>ai21-m3</td>\n",
       "      <td>E.coli</td>\n",
       "      <td>-0.231120</td>\n",
       "      <td>10uM</td>\n",
       "      <td>T17</td>\n",
       "      <td>txt file 2</td>\n",
       "    </tr>\n",
       "    <tr>\n",
       "      <th>525</th>\n",
       "      <td>ai21-m10</td>\n",
       "      <td>E.coli</td>\n",
       "      <td>1.718674</td>\n",
       "      <td>10uM</td>\n",
       "      <td>T17</td>\n",
       "      <td>txt file 2</td>\n",
       "    </tr>\n",
       "    <tr>\n",
       "      <th>526</th>\n",
       "      <td>ai21-m10</td>\n",
       "      <td>E.coli</td>\n",
       "      <td>1.397523</td>\n",
       "      <td>10uM</td>\n",
       "      <td>T17</td>\n",
       "      <td>txt file 2</td>\n",
       "    </tr>\n",
       "    <tr>\n",
       "      <th>527</th>\n",
       "      <td>ai21-m10</td>\n",
       "      <td>E.coli</td>\n",
       "      <td>1.705712</td>\n",
       "      <td>10uM</td>\n",
       "      <td>T17</td>\n",
       "      <td>txt file 2</td>\n",
       "    </tr>\n",
       "    <tr>\n",
       "      <th>528</th>\n",
       "      <td>ai21-m10</td>\n",
       "      <td>E.coli</td>\n",
       "      <td>1.617315</td>\n",
       "      <td>10uM</td>\n",
       "      <td>T17</td>\n",
       "      <td>txt file 2</td>\n",
       "    </tr>\n",
       "  </tbody>\n",
       "</table>\n",
       "<p>529 rows × 6 columns</p>\n",
       "</div>"
      ],
      "text/plain": [
       "       AMP_ID Methanogen_species  \\\n",
       "0      m3-m10       Mruminantium   \n",
       "1      m10-m3       Mruminantium   \n",
       "2       m3-m5       Mruminantium   \n",
       "3       m3-m6       Mruminantium   \n",
       "4       m3-m7       Mruminantium   \n",
       "..        ...                ...   \n",
       "524   ai21-m3             E.coli   \n",
       "525  ai21-m10             E.coli   \n",
       "526  ai21-m10             E.coli   \n",
       "527  ai21-m10             E.coli   \n",
       "528  ai21-m10             E.coli   \n",
       "\n",
       "     percent_growth_inhibition_compared_to_no_addition_ctrl Concentration  \\\n",
       "0                                             0.939606               10uM   \n",
       "1                                             0.998813               10uM   \n",
       "2                                             0.909472               10uM   \n",
       "3                                             0.979233               10uM   \n",
       "4                                             1.004577               10uM   \n",
       "..                                                 ...                ...   \n",
       "524                                          -0.231120               10uM   \n",
       "525                                           1.718674               10uM   \n",
       "526                                           1.397523               10uM   \n",
       "527                                           1.705712               10uM   \n",
       "528                                           1.617315               10uM   \n",
       "\n",
       "    Incubation_time    filesource  \n",
       "0               96h  excel file 1  \n",
       "1               96h  excel file 1  \n",
       "2               96h  excel file 1  \n",
       "3               96h  excel file 1  \n",
       "4               96h  excel file 1  \n",
       "..              ...           ...  \n",
       "524             T17    txt file 2  \n",
       "525             T17    txt file 2  \n",
       "526             T17    txt file 2  \n",
       "527             T17    txt file 2  \n",
       "528             T17    txt file 2  \n",
       "\n",
       "[529 rows x 6 columns]"
      ]
     },
     "execution_count": 43,
     "metadata": {},
     "output_type": "execute_result"
    }
   ],
   "source": [
    "full_amp_data"
   ]
  },
  {
   "cell_type": "markdown",
   "id": "782db060",
   "metadata": {},
   "source": [
    "# Preliminary Checks"
   ]
  },
  {
   "cell_type": "code",
   "execution_count": 44,
   "id": "a0b4c041",
   "metadata": {},
   "outputs": [],
   "source": [
    "# Reformatting\n",
    "full_amp_copy = full_amp_data.copy()\n",
    "\n",
    "species_mapping = { #key = old, value = standard (new)\n",
    "    \"Ecoli\" : \"E.coli\",\n",
    "    \"Mboviskoreani\" : \"M.boviskoreani\",\n",
    "    \"M.gottschalkii\" : \"M.gottschalkii\",\n",
    "    \"Mruminantium\" : \"M.ruminantium\"\n",
    "}\n",
    "full_amp_copy['Methanogen_species'] = full_amp_copy['Methanogen_species'].replace(species_mapping)\n",
    "\n",
    "time_mapping = {\n",
    "    \"T17\" : \"17h\",\n",
    "    \"T72\" : \"72h\",\n",
    "    \"T96\" : '96h'\n",
    "}\n",
    "full_amp_copy['Incubation_time'] = full_amp_copy['Incubation_time'].replace(time_mapping)\n",
    "\n",
    "amp_id_mapping = {\n",
    "    \"CAP-18 WT 1uM\"     : \"CAP-18 WT\",\n",
    "    \"CAP-18 WT 5uM\"     : \"CAP-18 WT\",\n",
    "    \"CAP18_WT\"          : \"CAP-18 WT\",\n",
    "    \"ai21-3-10 1 uM\"    : \"ai21-3-10\",\n",
    "    \"ai21-3-10 10 uM\"   : \"ai21-3-10\",\n",
    "    \"ai21-3-10 5 uM\"    : \"ai21-3-10\",\n",
    "    \"ai21-m3 1 uM\"      : \"ai21-m3\",\n",
    "    \"ai21-m3 10 uM\"     : \"ai21-m3\",\n",
    "    \"ai21-m3 5 uM\"      : \"ai21-m3\",\n",
    "    \"combogr 1uM\"       : \"combo-gr\",\n",
    "    \"combogr 5uM\"       : \"combo-gr\",\n",
    "    \"m10-2 1uM\"         : \"m10-2\",\n",
    "    \"m10-2 5uM\"         : \"m10-2\",\n",
    "    \"n7-trim-m10m3 1uM\" : \"n7-trim-m10m3\",\n",
    "    \"n7-trim-m10m3 5uM\" : \"n7-trim-m10m3\",\n",
    "    \"n7-trim-m3 1uM\"    : \"n7-trim-m3\",\n",
    "    \"n7-trim-m3 5uM\"    : \"n7-trim-m3\",\n",
    "    \"n7-trim-m3m10 1uM\" : \"n7-trim-m3m10\",\n",
    "    \"n7-trim-m3m10 5uM\" : \"n7-trim-m3m10\",\n",
    "    \"r10g_n11r 1uM\"     : \"r10g_n11r\",\n",
    "    \"r10g_n11r 5uM\"     : \"r10g_n11r\",\n",
    "}\n",
    "full_amp_copy['AMP_ID'] = full_amp_copy['AMP_ID'].replace(amp_id_mapping)\n",
    "\n",
    "# Splitting our dfs based on concentration\n",
    "\n",
    "# probably wont use this for now\n",
    "AMP1uM = full_amp_copy[full_amp_copy[\"Concentration\"] == \"1uM\"].sort_values([\"AMP_ID\", \"Methanogen_species\"], ascending=True)\n",
    "AMP5uM = full_amp_copy[full_amp_copy[\"Concentration\"] == \"5uM\"].sort_values([\"AMP_ID\", \"Methanogen_species\"], ascending=True)\n",
    "AMP10uM = full_amp_copy[full_amp_copy[\"Concentration\"] == \"10uM\"].sort_values([\"AMP_ID\", \"Methanogen_species\"], ascending=True)\n",
    "\n",
    "# make a tree map with each specieces and concentration to see which AMP compared CAP-18 is sucessful or not "
   ]
  },
  {
   "cell_type": "code",
   "execution_count": 58,
   "id": "b4c05014",
   "metadata": {},
   "outputs": [],
   "source": [
    "# Cleaning our data out\n",
    "AMP10uM = full_amp_copy[full_amp_copy[\"Concentration\"] == \"10uM\"].sort_values([\"AMP_ID\", \"Methanogen_species\"], ascending=True)\n",
    "AMP10uM = AMP10uM[AMP10uM[\"filesource\"] == \"txt file 2\"]\n",
    "AMP10uM[\"mean\"] = AMP10uM.groupby([\"AMP_ID\", 'Methanogen_species'])['percent_growth_inhibition_compared_to_no_addition_ctrl'].transform('mean')\n",
    "AMP_list = list(set(AMP10uM[\"AMP_ID\"]))\n",
    "AMP_list.sort()\n",
    "species_list = list(species_mapping.values())\n",
    "# adding a successful? and delta columns\n",
    "for species in species_list:\n",
    "    tmp_df = AMP10uM[AMP10uM['Methanogen_species'] == species]\n",
    "    cap18_med = tmp_df.loc[tmp_df['AMP_ID'].eq(\"CAP-18 WT\"), 'percent_growth_inhibition_compared_to_no_addition_ctrl'].mean()\n",
    "    AMP10uM.loc[AMP10uM[\"Methanogen_species\"].eq(species), \"delta\"] = cap18_med - AMP10uM.loc[AMP10uM[\"Methanogen_species\"].eq(species), \"percent_growth_inhibition_compared_to_no_addition_ctrl\"]\n",
    "    AMP10uM[\"sufficient?\"] = np.where(AMP10uM[\"delta\"] > 0, 1, 0)\n",
    "# grouped\n",
    "AMP10uMGrouped = AMP10uM.groupby([\"AMP_ID\",\t\"Methanogen_species\", \"Concentration\", \"Incubation_time\", \"filesource\"], as_index=False)[\"percent_growth_inhibition_compared_to_no_addition_ctrl\"].mean()\n",
    "for species in species_list:\n",
    "    tmp_df = AMP10uMGrouped[AMP10uMGrouped['Methanogen_species'] == species]\n",
    "    cap18_med = tmp_df[tmp_df[\"AMP_ID\"] == \"CAP-18 WT\"][\"percent_growth_inhibition_compared_to_no_addition_ctrl\"].mean()\n",
    "    AMP10uMGrouped.loc[AMP10uMGrouped[\"Methanogen_species\"].eq(species), \"delta\"] = cap18_med - AMP10uMGrouped.loc[AMP10uMGrouped[\"Methanogen_species\"].eq(species), \"percent_growth_inhibition_compared_to_no_addition_ctrl\"]\n",
    "    AMP10uMGrouped[\"sufficient?\"] = np.where(AMP10uMGrouped[\"delta\"] > 0, 1, 0)\n",
    "    \n",
    "AMP10uM = AMP10uM[AMP10uM[\"AMP_ID\"] != \"CAP-18 WT\"]\n"
   ]
  },
  {
   "cell_type": "code",
   "execution_count": 46,
   "id": "40ba930d",
   "metadata": {},
   "outputs": [
    {
     "name": "stdout",
     "output_type": "stream",
     "text": [
      "general info:\n",
      "<class 'pandas.core.frame.DataFrame'>\n",
      "Index: 342 entries, 481 to 398\n",
      "Data columns (total 9 columns):\n",
      " #   Column                                                  Non-Null Count  Dtype  \n",
      "---  ------                                                  --------------  -----  \n",
      " 0   AMP_ID                                                  342 non-null    object \n",
      " 1   Methanogen_species                                      342 non-null    object \n",
      " 2   percent_growth_inhibition_compared_to_no_addition_ctrl  342 non-null    float64\n",
      " 3   Concentration                                           342 non-null    object \n",
      " 4   Incubation_time                                         342 non-null    object \n",
      " 5   filesource                                              342 non-null    object \n",
      " 6   mean                                                    342 non-null    float64\n",
      " 7   delta                                                   0 non-null      float64\n",
      " 8   sufficient?                                             342 non-null    int64  \n",
      "dtypes: float64(3), int64(1), object(5)\n",
      "memory usage: 26.7+ KB\n",
      "None \n",
      "\n",
      "testing for duplicates, number of dupes:\n",
      "2 \n",
      "\n",
      "null columns:\n",
      "AMP_ID                                                      0\n",
      "Methanogen_species                                          0\n",
      "percent_growth_inhibition_compared_to_no_addition_ctrl      0\n",
      "Concentration                                               0\n",
      "Incubation_time                                             0\n",
      "filesource                                                  0\n",
      "mean                                                        0\n",
      "delta                                                     342\n",
      "sufficient?                                                 0\n",
      "dtype: int64\n"
     ]
    }
   ],
   "source": [
    "print(\"general info:\")\n",
    "print(AMP10uM.info(), \"\\n\")\n",
    "print(\"testing for duplicates, number of dupes:\")\n",
    "print(AMP10uM.duplicated().sum(), \"\\n\")\n",
    "print(\"null columns:\")\n",
    "print(AMP10uM.isna().sum())"
   ]
  },
  {
   "cell_type": "code",
   "execution_count": 53,
   "id": "af0132d5",
   "metadata": {},
   "outputs": [
    {
     "name": "stdout",
     "output_type": "stream",
     "text": [
      "Statstic for ai21-3-10 against E.coli: 0.945133138868581\n",
      "Pval: 0.6858588105082515\n",
      "data looks normally distrubted\n",
      "Statstic for ai21-3-10 against M.boviskoreani: 0.9317235776388808\n",
      "Pval: 0.6045662040324984\n",
      "data looks normally distrubted\n",
      "Statstic for ai21-3-10 against M.gottschalkii: 0.917045708323391\n",
      "Pval: 0.5205146751366847\n",
      "data looks normally distrubted\n",
      "Statstic for ai21-3-10 against M.ruminantium: 0.9789529378125107\n",
      "Pval: 0.8958504070359325\n",
      "data looks normally distrubted\n",
      "Statstic for ai21-3-10 against E.coli: 0.945133138868581\n",
      "Pval: 0.6858588105082515\n",
      "data looks normally distrubted\n",
      "Statstic for ai21-3-10 against M.boviskoreani: 0.9317235776388808\n",
      "Pval: 0.6045662040324984\n",
      "data looks normally distrubted\n",
      "Statstic for ai21-3-10 against M.gottschalkii: 0.917045708323391\n",
      "Pval: 0.5205146751366847\n",
      "data looks normally distrubted\n",
      "Statstic for ai21-3-10 against M.ruminantium: 0.9789529378125107\n",
      "Pval: 0.8958504070359325\n",
      "data looks normally distrubted\n",
      "Statstic for ai21-3-10 against E.coli: 0.945133138868581\n",
      "Pval: 0.6858588105082515\n",
      "data looks normally distrubted\n",
      "Statstic for ai21-3-10 against M.boviskoreani: 0.9317235776388808\n",
      "Pval: 0.6045662040324984\n",
      "data looks normally distrubted\n",
      "Statstic for ai21-3-10 against M.gottschalkii: 0.917045708323391\n",
      "Pval: 0.5205146751366847\n",
      "data looks normally distrubted\n",
      "Statstic for ai21-3-10 against M.ruminantium: 0.9789529378125107\n",
      "Pval: 0.8958504070359325\n",
      "data looks normally distrubted\n",
      "Statstic for ai21-m3 against E.coli: 0.899276494504808\n",
      "Pval: 0.4274742319614273\n",
      "data looks normally distrubted\n",
      "Statstic for ai21-m3 against M.boviskoreani: 0.8410388371103392\n",
      "Pval: 0.10159598502554756\n",
      "data looks normally distrubted\n",
      "Statstic for ai21-m3 against M.gottschalkii: 0.9665589390801756\n",
      "Pval: 0.8200726243933225\n",
      "data looks normally distrubted\n",
      "Statstic for ai21-m3 against M.ruminantium: 0.8008825151682303\n",
      "Pval: 0.11660689159300097\n",
      "data looks normally distrubted\n",
      "Statstic for ai21-m3 against E.coli: 0.899276494504808\n",
      "Pval: 0.4274742319614273\n",
      "data looks normally distrubted\n",
      "Statstic for ai21-m3 against M.boviskoreani: 0.8410388371103392\n",
      "Pval: 0.10159598502554756\n",
      "data looks normally distrubted\n",
      "Statstic for ai21-m3 against M.gottschalkii: 0.9665589390801756\n",
      "Pval: 0.8200726243933225\n",
      "data looks normally distrubted\n",
      "Statstic for ai21-m3 against M.ruminantium: 0.8008825151682303\n",
      "Pval: 0.11660689159300097\n",
      "data looks normally distrubted\n",
      "Statstic for ai21-m3 against E.coli: 0.899276494504808\n",
      "Pval: 0.4274742319614273\n",
      "data looks normally distrubted\n",
      "Statstic for ai21-m3 against M.boviskoreani: 0.8410388371103392\n",
      "Pval: 0.10159598502554756\n",
      "data looks normally distrubted\n",
      "Statstic for ai21-m3 against M.gottschalkii: 0.9665589390801756\n",
      "Pval: 0.8200726243933225\n",
      "data looks normally distrubted\n",
      "Statstic for ai21-m3 against M.ruminantium: 0.8008825151682303\n",
      "Pval: 0.11660689159300097\n",
      "data looks normally distrubted\n",
      "Statstic for combo-gr against E.coli: 0.6744022726297836\n",
      "Pval:0.005606401721476371\n",
      "data NOT looks normally distrubted\n",
      "Statstic for combo-gr against M.boviskoreani: 0.991362528285727\n",
      "Pval: 0.9643430116655646\n",
      "data looks normally distrubted\n",
      "Statstic for combo-gr against M.gottschalkii: 0.9809867332096873\n",
      "Pval: 0.9077831416731763\n",
      "data looks normally distrubted\n",
      "Statstic for combo-gr against E.coli: 0.6744022726297836\n",
      "Pval:0.005606401721476371\n",
      "data NOT looks normally distrubted\n",
      "Statstic for combo-gr against M.boviskoreani: 0.991362528285727\n",
      "Pval: 0.9643430116655646\n",
      "data looks normally distrubted\n",
      "Statstic for combo-gr against M.gottschalkii: 0.9809867332096873\n",
      "Pval: 0.9077831416731763\n",
      "data looks normally distrubted\n",
      "Statstic for m10-2 against E.coli: 0.78915741350194\n",
      "Pval: 0.08415484522459825\n",
      "data looks normally distrubted\n",
      "Statstic for m10-2 against M.boviskoreani: 0.9480012283953382\n",
      "Pval: 0.7036539698949593\n",
      "data looks normally distrubted\n",
      "Statstic for m10-2 against M.gottschalkii: 0.8190230670654726\n",
      "Pval: 0.1409435169918955\n",
      "data looks normally distrubted\n",
      "Statstic for m10-2 against E.coli: 0.78915741350194\n",
      "Pval: 0.08415484522459825\n",
      "data looks normally distrubted\n",
      "Statstic for m10-2 against M.boviskoreani: 0.9480012283953382\n",
      "Pval: 0.7036539698949593\n",
      "data looks normally distrubted\n",
      "Statstic for m10-2 against M.gottschalkii: 0.8190230670654726\n",
      "Pval: 0.1409435169918955\n",
      "data looks normally distrubted\n",
      "Statstic for n7-trim-m10m3 against E.coli: 0.8823461785748269\n",
      "Pval: 0.34875333462682295\n",
      "data looks normally distrubted\n",
      "Statstic for n7-trim-m10m3 against M.boviskoreani: 0.8973258551249443\n",
      "Pval: 0.4178979140725535\n",
      "data looks normally distrubted\n",
      "Statstic for n7-trim-m10m3 against M.gottschalkii: 0.8115224218669771\n",
      "Pval: 0.12454156449257586\n",
      "data looks normally distrubted\n",
      "Statstic for n7-trim-m10m3 against M.ruminantium: 0.969035902198136\n",
      "Pval: 0.8355042284385785\n",
      "data looks normally distrubted\n",
      "Statstic for n7-trim-m10m3 against E.coli: 0.8823461785748269\n",
      "Pval: 0.34875333462682295\n",
      "data looks normally distrubted\n",
      "Statstic for n7-trim-m10m3 against M.boviskoreani: 0.8973258551249443\n",
      "Pval: 0.4178979140725535\n",
      "data looks normally distrubted\n",
      "Statstic for n7-trim-m10m3 against M.gottschalkii: 0.8115224218669771\n",
      "Pval: 0.12454156449257586\n",
      "data looks normally distrubted\n",
      "Statstic for n7-trim-m10m3 against M.ruminantium: 0.969035902198136\n",
      "Pval: 0.8355042284385785\n",
      "data looks normally distrubted\n",
      "Statstic for n7-trim-m3 against E.coli: 0.8298106622164271\n",
      "Pval: 0.1673089037805902\n",
      "data looks normally distrubted\n",
      "Statstic for n7-trim-m3 against M.boviskoreani: 0.9390369108130194\n",
      "Pval: 0.6484626800106335\n",
      "data looks normally distrubted\n",
      "Statstic for n7-trim-m3 against M.gottschalkii: 0.9306107075247458\n",
      "Pval: 0.5979933726655633\n",
      "data looks normally distrubted\n",
      "Statstic for n7-trim-m3 against E.coli: 0.8298106622164271\n",
      "Pval: 0.1673089037805902\n",
      "data looks normally distrubted\n",
      "Statstic for n7-trim-m3 against M.boviskoreani: 0.9390369108130194\n",
      "Pval: 0.6484626800106335\n",
      "data looks normally distrubted\n",
      "Statstic for n7-trim-m3 against M.gottschalkii: 0.9306107075247458\n",
      "Pval: 0.5979933726655633\n",
      "data looks normally distrubted\n",
      "Statstic for n7-trim-m3m10 against M.boviskoreani: 0.899672261873593\n",
      "Pval: 0.4294330215980774\n",
      "data looks normally distrubted\n",
      "Statstic for n7-trim-m3m10 against M.gottschalkii: 0.8464647335640332\n",
      "Pval: 0.2149164172139778\n",
      "data looks normally distrubted\n",
      "Statstic for n7-trim-m3m10 against M.ruminantium: 0.9888825296360264\n",
      "Pval: 0.9516756040776178\n",
      "data looks normally distrubted\n",
      "Statstic for n7-trim-m3m10 against M.boviskoreani: 0.899672261873593\n",
      "Pval: 0.4294330215980774\n",
      "data looks normally distrubted\n",
      "Statstic for n7-trim-m3m10 against M.gottschalkii: 0.8464647335640332\n",
      "Pval: 0.2149164172139778\n",
      "data looks normally distrubted\n",
      "Statstic for n7-trim-m3m10 against M.ruminantium: 0.9888825296360264\n",
      "Pval: 0.9516756040776178\n",
      "data looks normally distrubted\n",
      "Statstic for r10g_n11r against E.coli: 0.7080297476031647\n",
      "Pval:0.01434225076170527\n",
      "data NOT looks normally distrubted\n",
      "Statstic for r10g_n11r against M.boviskoreani: 0.9506163997738137\n",
      "Pval: 0.7199682093322503\n",
      "data looks normally distrubted\n",
      "Statstic for r10g_n11r against M.gottschalkii: 0.9121954647089862\n",
      "Pval: 0.4941113209775825\n",
      "data looks normally distrubted\n",
      "Statstic for r10g_n11r against E.coli: 0.7080297476031647\n",
      "Pval:0.01434225076170527\n",
      "data NOT looks normally distrubted\n",
      "Statstic for r10g_n11r against M.boviskoreani: 0.9506163997738137\n",
      "Pval: 0.7199682093322503\n",
      "data looks normally distrubted\n",
      "Statstic for r10g_n11r against M.gottschalkii: 0.9121954647089862\n",
      "Pval: 0.4941113209775825\n",
      "data looks normally distrubted\n",
      "percent of the groups tested is normal: 0.9354838709677419\n"
     ]
    }
   ],
   "source": [
    "# Checking for normality using the Shapiro–Wilk test\n",
    "counter = 0\n",
    "success = 0\n",
    "for AMPs in AMP_list:\n",
    "    for species in species_list:\n",
    "        values = AMP10uM[(AMP10uM[\"AMP_ID\"] == AMPs) & (AMP10uM[\"Methanogen_species\"] == species)][\"percent_growth_inhibition_compared_to_no_addition_ctrl\"].tolist()\n",
    "        if len(values) != 0:     # omitting the species not tested with the AMPS          \n",
    "            counter = counter + 1\n",
    "            stat, p = shapiro(values)\n",
    "            print(\"Statstic for \" + str(AMPs) + \" against \" + str(species) + \": \" + str(stat))\n",
    "            if p > 0.05:\n",
    "                print(\"Pval: \" + str(p) + \"\\ndata looks normally distrubted\")\n",
    "                success = success + 1\n",
    "            else:\n",
    "                print(\"Pval:\" + str(p) + \"\\ndata NOT looks normally distrubted\")\n",
    "print(\"percent of the groups tested is normal: \" + str(success/counter))\n",
    "\n",
    "# Most groups are normal, but since the sample size is so small, we can't assume that they're normally distrbuted. "
   ]
  },
  {
   "cell_type": "code",
   "execution_count": null,
   "id": "37966443",
   "metadata": {},
   "outputs": [
    {
     "data": {
      "text/plain": [
       "Methanogen_species  Incubation_time\n",
       "E.coli              17h                96\n",
       "M.boviskoreani      96h                99\n",
       "M.gottschalkii      72h                96\n",
       "M.ruminantium       96h                51\n",
       "Name: Incubation_time, dtype: int64"
      ]
     },
     "execution_count": 8,
     "metadata": {},
     "output_type": "execute_result"
    }
   ],
   "source": [
    "# Another thing to note is that the incubation time is the same for each Methanogen_species, AMPs did not have an effect on the incubation time\n",
    "same = AMP10uM.groupby([\"Methanogen_species\", \"Incubation_time\"])[\"Incubation_time\"].count()\n",
    "same"
   ]
  },
  {
   "cell_type": "code",
   "execution_count": null,
   "id": "197acdd3",
   "metadata": {},
   "outputs": [
    {
     "data": {
      "text/plain": [
       "Methanogen_species  Concentration\n",
       "E.coli              10uM             96\n",
       "M.boviskoreani      10uM             99\n",
       "M.gottschalkii      10uM             96\n",
       "M.ruminantium       10uM             51\n",
       "Name: Concentration, dtype: int64"
      ]
     },
     "execution_count": 9,
     "metadata": {},
     "output_type": "execute_result"
    }
   ],
   "source": [
    "# Our concentration is also the same across all species tested\n",
    "same = AMP10uM.groupby([\"Methanogen_species\", \"Concentration\"])[\"Concentration\"].count()\n",
    "same"
   ]
  },
  {
   "cell_type": "code",
   "execution_count": 54,
   "id": "9d66e7ff",
   "metadata": {},
   "outputs": [
    {
     "data": {
      "application/vnd.plotly.v1+json": {
       "config": {
        "plotlyServerURL": "https://plot.ly"
       },
       "data": [
        {
         "coloraxis": "coloraxis",
         "histfunc": "avg",
         "hovertemplate": "Methanogen_species=%{x}<br>AMP_ID=%{y}<br>avg of delta=%{z}<extra></extra>",
         "name": "",
         "type": "histogram2d",
         "x": [
          "E.coli",
          "E.coli",
          "E.coli",
          "E.coli",
          "M.boviskoreani",
          "M.boviskoreani",
          "M.boviskoreani",
          "M.boviskoreani",
          "M.gottschalkii",
          "M.gottschalkii",
          "M.gottschalkii",
          "M.gottschalkii",
          "E.coli",
          "E.coli",
          "E.coli",
          "E.coli",
          "M.boviskoreani",
          "M.boviskoreani",
          "M.boviskoreani",
          "M.boviskoreani",
          "M.gottschalkii",
          "M.gottschalkii",
          "M.gottschalkii",
          "M.gottschalkii",
          "M.ruminantium",
          "M.ruminantium",
          "M.ruminantium",
          "M.ruminantium",
          "E.coli",
          "E.coli",
          "E.coli",
          "E.coli",
          "E.coli",
          "E.coli",
          "E.coli",
          "E.coli",
          "M.boviskoreani",
          "M.boviskoreani",
          "M.boviskoreani",
          "M.boviskoreani",
          "M.gottschalkii",
          "M.gottschalkii",
          "M.gottschalkii",
          "M.gottschalkii",
          "E.coli",
          "E.coli",
          "E.coli",
          "E.coli",
          "M.boviskoreani",
          "M.boviskoreani",
          "M.boviskoreani",
          "M.boviskoreani",
          "M.boviskoreani",
          "M.boviskoreani",
          "M.boviskoreani",
          "M.gottschalkii",
          "M.gottschalkii",
          "M.gottschalkii",
          "M.gottschalkii",
          "M.ruminantium",
          "M.ruminantium",
          "M.ruminantium",
          "E.coli",
          "E.coli",
          "E.coli",
          "E.coli",
          "M.boviskoreani",
          "M.boviskoreani",
          "M.boviskoreani",
          "M.boviskoreani",
          "M.gottschalkii",
          "M.gottschalkii",
          "M.gottschalkii",
          "M.gottschalkii",
          "E.coli",
          "E.coli",
          "E.coli",
          "E.coli",
          "M.boviskoreani",
          "M.boviskoreani",
          "M.boviskoreani",
          "M.boviskoreani",
          "M.gottschalkii",
          "M.gottschalkii",
          "M.gottschalkii",
          "M.gottschalkii",
          "E.coli",
          "E.coli",
          "E.coli",
          "E.coli",
          "M.boviskoreani",
          "M.boviskoreani",
          "M.boviskoreani",
          "M.boviskoreani",
          "M.gottschalkii",
          "M.gottschalkii",
          "M.gottschalkii",
          "M.gottschalkii",
          "M.ruminantium",
          "M.ruminantium",
          "M.ruminantium",
          "M.ruminantium",
          "E.coli",
          "E.coli",
          "E.coli",
          "E.coli",
          "M.boviskoreani",
          "M.boviskoreani",
          "M.boviskoreani",
          "M.boviskoreani",
          "M.gottschalkii",
          "M.gottschalkii",
          "M.gottschalkii",
          "M.gottschalkii",
          "M.ruminantium",
          "M.ruminantium",
          "M.ruminantium",
          "M.ruminantium",
          "E.coli",
          "E.coli",
          "E.coli",
          "E.coli",
          "M.boviskoreani",
          "M.boviskoreani",
          "M.boviskoreani",
          "M.boviskoreani",
          "M.gottschalkii",
          "M.gottschalkii",
          "M.gottschalkii",
          "M.gottschalkii",
          "M.ruminantium",
          "M.ruminantium",
          "M.ruminantium",
          "M.ruminantium",
          "E.coli",
          "E.coli",
          "E.coli",
          "E.coli",
          "M.boviskoreani",
          "M.boviskoreani",
          "M.boviskoreani",
          "M.boviskoreani",
          "M.gottschalkii",
          "M.gottschalkii",
          "M.gottschalkii",
          "M.gottschalkii",
          "E.coli",
          "E.coli",
          "E.coli",
          "E.coli",
          "M.boviskoreani",
          "M.boviskoreani",
          "M.boviskoreani",
          "M.boviskoreani",
          "M.gottschalkii",
          "M.gottschalkii",
          "M.gottschalkii",
          "M.gottschalkii",
          "M.ruminantium",
          "M.ruminantium",
          "M.ruminantium",
          "M.ruminantium",
          "E.coli",
          "E.coli",
          "E.coli",
          "E.coli",
          "M.boviskoreani",
          "M.boviskoreani",
          "M.boviskoreani",
          "M.boviskoreani",
          "M.gottschalkii",
          "M.gottschalkii",
          "M.gottschalkii",
          "M.gottschalkii",
          "M.ruminantium",
          "M.ruminantium",
          "M.ruminantium",
          "M.ruminantium",
          "E.coli",
          "E.coli",
          "E.coli",
          "E.coli",
          "M.boviskoreani",
          "M.boviskoreani",
          "M.boviskoreani",
          "M.boviskoreani",
          "M.gottschalkii",
          "M.gottschalkii",
          "M.gottschalkii",
          "M.gottschalkii",
          "E.coli",
          "E.coli",
          "E.coli",
          "E.coli",
          "M.boviskoreani",
          "M.boviskoreani",
          "M.boviskoreani",
          "M.boviskoreani",
          "M.gottschalkii",
          "M.gottschalkii",
          "M.gottschalkii",
          "M.gottschalkii",
          "E.coli",
          "E.coli",
          "E.coli",
          "E.coli",
          "M.boviskoreani",
          "M.boviskoreani",
          "M.boviskoreani",
          "M.boviskoreani",
          "M.gottschalkii",
          "M.gottschalkii",
          "M.gottschalkii",
          "M.gottschalkii",
          "M.ruminantium",
          "M.ruminantium",
          "M.ruminantium",
          "M.ruminantium",
          "E.coli",
          "E.coli",
          "E.coli",
          "E.coli",
          "M.boviskoreani",
          "M.boviskoreani",
          "M.boviskoreani",
          "M.boviskoreani",
          "M.gottschalkii",
          "M.gottschalkii",
          "M.gottschalkii",
          "M.gottschalkii",
          "M.ruminantium",
          "M.ruminantium",
          "M.ruminantium",
          "M.ruminantium",
          "E.coli",
          "E.coli",
          "E.coli",
          "E.coli",
          "M.boviskoreani",
          "M.boviskoreani",
          "M.boviskoreani",
          "M.boviskoreani",
          "M.gottschalkii",
          "M.gottschalkii",
          "M.gottschalkii",
          "M.gottschalkii",
          "M.ruminantium",
          "M.ruminantium",
          "M.ruminantium",
          "M.ruminantium",
          "E.coli",
          "E.coli",
          "E.coli",
          "E.coli",
          "M.boviskoreani",
          "M.boviskoreani",
          "M.boviskoreani",
          "M.boviskoreani",
          "M.gottschalkii",
          "M.gottschalkii",
          "M.gottschalkii",
          "M.gottschalkii",
          "M.ruminantium",
          "M.ruminantium",
          "M.ruminantium",
          "M.ruminantium",
          "E.coli",
          "E.coli",
          "E.coli",
          "E.coli",
          "M.boviskoreani",
          "M.boviskoreani",
          "M.boviskoreani",
          "M.boviskoreani",
          "M.gottschalkii",
          "M.gottschalkii",
          "M.gottschalkii",
          "M.gottschalkii",
          "E.coli",
          "E.coli",
          "E.coli",
          "E.coli",
          "M.boviskoreani",
          "M.boviskoreani",
          "M.boviskoreani",
          "M.boviskoreani",
          "M.gottschalkii",
          "M.gottschalkii",
          "M.gottschalkii",
          "M.gottschalkii",
          "M.ruminantium",
          "M.ruminantium",
          "M.ruminantium",
          "M.ruminantium",
          "E.coli",
          "E.coli",
          "E.coli",
          "E.coli",
          "M.boviskoreani",
          "M.boviskoreani",
          "M.boviskoreani",
          "M.boviskoreani",
          "M.gottschalkii",
          "M.gottschalkii",
          "M.gottschalkii",
          "M.gottschalkii",
          "M.boviskoreani",
          "M.boviskoreani",
          "M.boviskoreani",
          "M.boviskoreani",
          "M.gottschalkii",
          "M.gottschalkii",
          "M.gottschalkii",
          "M.gottschalkii",
          "M.ruminantium",
          "M.ruminantium",
          "M.ruminantium",
          "M.ruminantium",
          "E.coli",
          "E.coli",
          "E.coli",
          "E.coli",
          "M.boviskoreani",
          "M.boviskoreani",
          "M.boviskoreani",
          "M.boviskoreani",
          "M.gottschalkii",
          "M.gottschalkii",
          "M.gottschalkii",
          "M.gottschalkii",
          "E.coli",
          "E.coli",
          "E.coli",
          "E.coli",
          "M.boviskoreani",
          "M.boviskoreani",
          "M.boviskoreani",
          "M.boviskoreani",
          "M.gottschalkii",
          "M.gottschalkii",
          "M.gottschalkii",
          "M.gottschalkii"
         ],
         "xaxis": "x",
         "xbingroup": "x",
         "y": [
          "ai21-10-3",
          "ai21-10-3",
          "ai21-10-3",
          "ai21-10-3",
          "ai21-10-3",
          "ai21-10-3",
          "ai21-10-3",
          "ai21-10-3",
          "ai21-10-3",
          "ai21-10-3",
          "ai21-10-3",
          "ai21-10-3",
          "ai21-3-10",
          "ai21-3-10",
          "ai21-3-10",
          "ai21-3-10",
          "ai21-3-10",
          "ai21-3-10",
          "ai21-3-10",
          "ai21-3-10",
          "ai21-3-10",
          "ai21-3-10",
          "ai21-3-10",
          "ai21-3-10",
          "ai21-3-10",
          "ai21-3-10",
          "ai21-3-10",
          "ai21-3-10",
          "ai21-3-10m10",
          "ai21-3-10m10",
          "ai21-3-10m10",
          "ai21-3-10m10",
          "ai21-m10",
          "ai21-m10",
          "ai21-m10",
          "ai21-m10",
          "ai21-m10",
          "ai21-m10",
          "ai21-m10",
          "ai21-m10",
          "ai21-m10",
          "ai21-m10",
          "ai21-m10",
          "ai21-m10",
          "ai21-m3",
          "ai21-m3",
          "ai21-m3",
          "ai21-m3",
          "ai21-m3",
          "ai21-m3",
          "ai21-m3",
          "ai21-m3",
          "ai21-m3",
          "ai21-m3",
          "ai21-m3",
          "ai21-m3",
          "ai21-m3",
          "ai21-m3",
          "ai21-m3",
          "ai21-m3",
          "ai21-m3",
          "ai21-m3",
          "combo-gr",
          "combo-gr",
          "combo-gr",
          "combo-gr",
          "combo-gr",
          "combo-gr",
          "combo-gr",
          "combo-gr",
          "combo-gr",
          "combo-gr",
          "combo-gr",
          "combo-gr",
          "m10-2",
          "m10-2",
          "m10-2",
          "m10-2",
          "m10-2",
          "m10-2",
          "m10-2",
          "m10-2",
          "m10-2",
          "m10-2",
          "m10-2",
          "m10-2",
          "m10-3",
          "m10-3",
          "m10-3",
          "m10-3",
          "m10-3",
          "m10-3",
          "m10-3",
          "m10-3",
          "m10-3",
          "m10-3",
          "m10-3",
          "m10-3",
          "m10-3",
          "m10-3",
          "m10-3",
          "m10-3",
          "m10-4",
          "m10-4",
          "m10-4",
          "m10-4",
          "m10-4",
          "m10-4",
          "m10-4",
          "m10-4",
          "m10-4",
          "m10-4",
          "m10-4",
          "m10-4",
          "m10-4",
          "m10-4",
          "m10-4",
          "m10-4",
          "m10-6",
          "m10-6",
          "m10-6",
          "m10-6",
          "m10-6",
          "m10-6",
          "m10-6",
          "m10-6",
          "m10-6",
          "m10-6",
          "m10-6",
          "m10-6",
          "m10-6",
          "m10-6",
          "m10-6",
          "m10-6",
          "m10-7",
          "m10-7",
          "m10-7",
          "m10-7",
          "m10-7",
          "m10-7",
          "m10-7",
          "m10-7",
          "m10-7",
          "m10-7",
          "m10-7",
          "m10-7",
          "m10-m3",
          "m10-m3",
          "m10-m3",
          "m10-m3",
          "m10-m3",
          "m10-m3",
          "m10-m3",
          "m10-m3",
          "m10-m3",
          "m10-m3",
          "m10-m3",
          "m10-m3",
          "m10-m3",
          "m10-m3",
          "m10-m3",
          "m10-m3",
          "m3-1",
          "m3-1",
          "m3-1",
          "m3-1",
          "m3-1",
          "m3-1",
          "m3-1",
          "m3-1",
          "m3-1",
          "m3-1",
          "m3-1",
          "m3-1",
          "m3-1",
          "m3-1",
          "m3-1",
          "m3-1",
          "m3-3",
          "m3-3",
          "m3-3",
          "m3-3",
          "m3-3",
          "m3-3",
          "m3-3",
          "m3-3",
          "m3-3",
          "m3-3",
          "m3-3",
          "m3-3",
          "m3-4",
          "m3-4",
          "m3-4",
          "m3-4",
          "m3-4",
          "m3-4",
          "m3-4",
          "m3-4",
          "m3-4",
          "m3-4",
          "m3-4",
          "m3-4",
          "m3-5",
          "m3-5",
          "m3-5",
          "m3-5",
          "m3-5",
          "m3-5",
          "m3-5",
          "m3-5",
          "m3-5",
          "m3-5",
          "m3-5",
          "m3-5",
          "m3-5",
          "m3-5",
          "m3-5",
          "m3-5",
          "m3-6",
          "m3-6",
          "m3-6",
          "m3-6",
          "m3-6",
          "m3-6",
          "m3-6",
          "m3-6",
          "m3-6",
          "m3-6",
          "m3-6",
          "m3-6",
          "m3-6",
          "m3-6",
          "m3-6",
          "m3-6",
          "m3-7",
          "m3-7",
          "m3-7",
          "m3-7",
          "m3-7",
          "m3-7",
          "m3-7",
          "m3-7",
          "m3-7",
          "m3-7",
          "m3-7",
          "m3-7",
          "m3-7",
          "m3-7",
          "m3-7",
          "m3-7",
          "m3-m10",
          "m3-m10",
          "m3-m10",
          "m3-m10",
          "m3-m10",
          "m3-m10",
          "m3-m10",
          "m3-m10",
          "m3-m10",
          "m3-m10",
          "m3-m10",
          "m3-m10",
          "m3-m10",
          "m3-m10",
          "m3-m10",
          "m3-m10",
          "n7-trim-m10",
          "n7-trim-m10",
          "n7-trim-m10",
          "n7-trim-m10",
          "n7-trim-m10",
          "n7-trim-m10",
          "n7-trim-m10",
          "n7-trim-m10",
          "n7-trim-m10",
          "n7-trim-m10",
          "n7-trim-m10",
          "n7-trim-m10",
          "n7-trim-m10m3",
          "n7-trim-m10m3",
          "n7-trim-m10m3",
          "n7-trim-m10m3",
          "n7-trim-m10m3",
          "n7-trim-m10m3",
          "n7-trim-m10m3",
          "n7-trim-m10m3",
          "n7-trim-m10m3",
          "n7-trim-m10m3",
          "n7-trim-m10m3",
          "n7-trim-m10m3",
          "n7-trim-m10m3",
          "n7-trim-m10m3",
          "n7-trim-m10m3",
          "n7-trim-m10m3",
          "n7-trim-m3",
          "n7-trim-m3",
          "n7-trim-m3",
          "n7-trim-m3",
          "n7-trim-m3",
          "n7-trim-m3",
          "n7-trim-m3",
          "n7-trim-m3",
          "n7-trim-m3",
          "n7-trim-m3",
          "n7-trim-m3",
          "n7-trim-m3",
          "n7-trim-m3m10",
          "n7-trim-m3m10",
          "n7-trim-m3m10",
          "n7-trim-m3m10",
          "n7-trim-m3m10",
          "n7-trim-m3m10",
          "n7-trim-m3m10",
          "n7-trim-m3m10",
          "n7-trim-m3m10",
          "n7-trim-m3m10",
          "n7-trim-m3m10",
          "n7-trim-m3m10",
          "q22r_q25r",
          "q22r_q25r",
          "q22r_q25r",
          "q22r_q25r",
          "q22r_q25r",
          "q22r_q25r",
          "q22r_q25r",
          "q22r_q25r",
          "q22r_q25r",
          "q22r_q25r",
          "q22r_q25r",
          "q22r_q25r",
          "r10g_n11r",
          "r10g_n11r",
          "r10g_n11r",
          "r10g_n11r",
          "r10g_n11r",
          "r10g_n11r",
          "r10g_n11r",
          "r10g_n11r",
          "r10g_n11r",
          "r10g_n11r",
          "r10g_n11r",
          "r10g_n11r"
         ],
         "yaxis": "y",
         "ybingroup": "y",
         "z": {
          "bdata": "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",
          "dtype": "f8"
         }
        }
       ],
       "layout": {
        "coloraxis": {
         "cmax": 0.5,
         "cmin": -0.5,
         "colorbar": {
          "title": {
           "text": "Delta Proportion"
          }
         },
         "colorscale": [
          [
           0,
           "rgb(103,0,31)"
          ],
          [
           0.1,
           "rgb(178,24,43)"
          ],
          [
           0.2,
           "rgb(214,96,77)"
          ],
          [
           0.3,
           "rgb(244,165,130)"
          ],
          [
           0.4,
           "rgb(253,219,199)"
          ],
          [
           0.5,
           "rgb(247,247,247)"
          ],
          [
           0.6,
           "rgb(209,229,240)"
          ],
          [
           0.7,
           "rgb(146,197,222)"
          ],
          [
           0.8,
           "rgb(67,147,195)"
          ],
          [
           0.9,
           "rgb(33,102,172)"
          ],
          [
           1,
           "rgb(5,48,97)"
          ]
         ]
        },
        "height": 600,
        "legend": {
         "tracegroupgap": 0
        },
        "margin": {
         "t": 60
        },
        "template": {
         "data": {
          "bar": [
           {
            "error_x": {
             "color": "#2a3f5f"
            },
            "error_y": {
             "color": "#2a3f5f"
            },
            "marker": {
             "line": {
              "color": "#E5ECF6",
              "width": 0.5
             },
             "pattern": {
              "fillmode": "overlay",
              "size": 10,
              "solidity": 0.2
             }
            },
            "type": "bar"
           }
          ],
          "barpolar": [
           {
            "marker": {
             "line": {
              "color": "#E5ECF6",
              "width": 0.5
             },
             "pattern": {
              "fillmode": "overlay",
              "size": 10,
              "solidity": 0.2
             }
            },
            "type": "barpolar"
           }
          ],
          "carpet": [
           {
            "aaxis": {
             "endlinecolor": "#2a3f5f",
             "gridcolor": "white",
             "linecolor": "white",
             "minorgridcolor": "white",
             "startlinecolor": "#2a3f5f"
            },
            "baxis": {
             "endlinecolor": "#2a3f5f",
             "gridcolor": "white",
             "linecolor": "white",
             "minorgridcolor": "white",
             "startlinecolor": "#2a3f5f"
            },
            "type": "carpet"
           }
          ],
          "choropleth": [
           {
            "colorbar": {
             "outlinewidth": 0,
             "ticks": ""
            },
            "type": "choropleth"
           }
          ],
          "contour": [
           {
            "colorbar": {
             "outlinewidth": 0,
             "ticks": ""
            },
            "colorscale": [
             [
              0,
              "#0d0887"
             ],
             [
              0.1111111111111111,
              "#46039f"
             ],
             [
              0.2222222222222222,
              "#7201a8"
             ],
             [
              0.3333333333333333,
              "#9c179e"
             ],
             [
              0.4444444444444444,
              "#bd3786"
             ],
             [
              0.5555555555555556,
              "#d8576b"
             ],
             [
              0.6666666666666666,
              "#ed7953"
             ],
             [
              0.7777777777777778,
              "#fb9f3a"
             ],
             [
              0.8888888888888888,
              "#fdca26"
             ],
             [
              1,
              "#f0f921"
             ]
            ],
            "type": "contour"
           }
          ],
          "contourcarpet": [
           {
            "colorbar": {
             "outlinewidth": 0,
             "ticks": ""
            },
            "type": "contourcarpet"
           }
          ],
          "heatmap": [
           {
            "colorbar": {
             "outlinewidth": 0,
             "ticks": ""
            },
            "colorscale": [
             [
              0,
              "#0d0887"
             ],
             [
              0.1111111111111111,
              "#46039f"
             ],
             [
              0.2222222222222222,
              "#7201a8"
             ],
             [
              0.3333333333333333,
              "#9c179e"
             ],
             [
              0.4444444444444444,
              "#bd3786"
             ],
             [
              0.5555555555555556,
              "#d8576b"
             ],
             [
              0.6666666666666666,
              "#ed7953"
             ],
             [
              0.7777777777777778,
              "#fb9f3a"
             ],
             [
              0.8888888888888888,
              "#fdca26"
             ],
             [
              1,
              "#f0f921"
             ]
            ],
            "type": "heatmap"
           }
          ],
          "histogram": [
           {
            "marker": {
             "pattern": {
              "fillmode": "overlay",
              "size": 10,
              "solidity": 0.2
             }
            },
            "type": "histogram"
           }
          ],
          "histogram2d": [
           {
            "colorbar": {
             "outlinewidth": 0,
             "ticks": ""
            },
            "colorscale": [
             [
              0,
              "#0d0887"
             ],
             [
              0.1111111111111111,
              "#46039f"
             ],
             [
              0.2222222222222222,
              "#7201a8"
             ],
             [
              0.3333333333333333,
              "#9c179e"
             ],
             [
              0.4444444444444444,
              "#bd3786"
             ],
             [
              0.5555555555555556,
              "#d8576b"
             ],
             [
              0.6666666666666666,
              "#ed7953"
             ],
             [
              0.7777777777777778,
              "#fb9f3a"
             ],
             [
              0.8888888888888888,
              "#fdca26"
             ],
             [
              1,
              "#f0f921"
             ]
            ],
            "type": "histogram2d"
           }
          ],
          "histogram2dcontour": [
           {
            "colorbar": {
             "outlinewidth": 0,
             "ticks": ""
            },
            "colorscale": [
             [
              0,
              "#0d0887"
             ],
             [
              0.1111111111111111,
              "#46039f"
             ],
             [
              0.2222222222222222,
              "#7201a8"
             ],
             [
              0.3333333333333333,
              "#9c179e"
             ],
             [
              0.4444444444444444,
              "#bd3786"
             ],
             [
              0.5555555555555556,
              "#d8576b"
             ],
             [
              0.6666666666666666,
              "#ed7953"
             ],
             [
              0.7777777777777778,
              "#fb9f3a"
             ],
             [
              0.8888888888888888,
              "#fdca26"
             ],
             [
              1,
              "#f0f921"
             ]
            ],
            "type": "histogram2dcontour"
           }
          ],
          "mesh3d": [
           {
            "colorbar": {
             "outlinewidth": 0,
             "ticks": ""
            },
            "type": "mesh3d"
           }
          ],
          "parcoords": [
           {
            "line": {
             "colorbar": {
              "outlinewidth": 0,
              "ticks": ""
             }
            },
            "type": "parcoords"
           }
          ],
          "pie": [
           {
            "automargin": true,
            "type": "pie"
           }
          ],
          "scatter": [
           {
            "fillpattern": {
             "fillmode": "overlay",
             "size": 10,
             "solidity": 0.2
            },
            "type": "scatter"
           }
          ],
          "scatter3d": [
           {
            "line": {
             "colorbar": {
              "outlinewidth": 0,
              "ticks": ""
             }
            },
            "marker": {
             "colorbar": {
              "outlinewidth": 0,
              "ticks": ""
             }
            },
            "type": "scatter3d"
           }
          ],
          "scattercarpet": [
           {
            "marker": {
             "colorbar": {
              "outlinewidth": 0,
              "ticks": ""
             }
            },
            "type": "scattercarpet"
           }
          ],
          "scattergeo": [
           {
            "marker": {
             "colorbar": {
              "outlinewidth": 0,
              "ticks": ""
             }
            },
            "type": "scattergeo"
           }
          ],
          "scattergl": [
           {
            "marker": {
             "colorbar": {
              "outlinewidth": 0,
              "ticks": ""
             }
            },
            "type": "scattergl"
           }
          ],
          "scattermap": [
           {
            "marker": {
             "colorbar": {
              "outlinewidth": 0,
              "ticks": ""
             }
            },
            "type": "scattermap"
           }
          ],
          "scattermapbox": [
           {
            "marker": {
             "colorbar": {
              "outlinewidth": 0,
              "ticks": ""
             }
            },
            "type": "scattermapbox"
           }
          ],
          "scatterpolar": [
           {
            "marker": {
             "colorbar": {
              "outlinewidth": 0,
              "ticks": ""
             }
            },
            "type": "scatterpolar"
           }
          ],
          "scatterpolargl": [
           {
            "marker": {
             "colorbar": {
              "outlinewidth": 0,
              "ticks": ""
             }
            },
            "type": "scatterpolargl"
           }
          ],
          "scatterternary": [
           {
            "marker": {
             "colorbar": {
              "outlinewidth": 0,
              "ticks": ""
             }
            },
            "type": "scatterternary"
           }
          ],
          "surface": [
           {
            "colorbar": {
             "outlinewidth": 0,
             "ticks": ""
            },
            "colorscale": [
             [
              0,
              "#0d0887"
             ],
             [
              0.1111111111111111,
              "#46039f"
             ],
             [
              0.2222222222222222,
              "#7201a8"
             ],
             [
              0.3333333333333333,
              "#9c179e"
             ],
             [
              0.4444444444444444,
              "#bd3786"
             ],
             [
              0.5555555555555556,
              "#d8576b"
             ],
             [
              0.6666666666666666,
              "#ed7953"
             ],
             [
              0.7777777777777778,
              "#fb9f3a"
             ],
             [
              0.8888888888888888,
              "#fdca26"
             ],
             [
              1,
              "#f0f921"
             ]
            ],
            "type": "surface"
           }
          ],
          "table": [
           {
            "cells": {
             "fill": {
              "color": "#EBF0F8"
             },
             "line": {
              "color": "white"
             }
            },
            "header": {
             "fill": {
              "color": "#C8D4E3"
             },
             "line": {
              "color": "white"
             }
            },
            "type": "table"
           }
          ]
         },
         "layout": {
          "annotationdefaults": {
           "arrowcolor": "#2a3f5f",
           "arrowhead": 0,
           "arrowwidth": 1
          },
          "autotypenumbers": "strict",
          "coloraxis": {
           "colorbar": {
            "outlinewidth": 0,
            "ticks": ""
           }
          },
          "colorscale": {
           "diverging": [
            [
             0,
             "#8e0152"
            ],
            [
             0.1,
             "#c51b7d"
            ],
            [
             0.2,
             "#de77ae"
            ],
            [
             0.3,
             "#f1b6da"
            ],
            [
             0.4,
             "#fde0ef"
            ],
            [
             0.5,
             "#f7f7f7"
            ],
            [
             0.6,
             "#e6f5d0"
            ],
            [
             0.7,
             "#b8e186"
            ],
            [
             0.8,
             "#7fbc41"
            ],
            [
             0.9,
             "#4d9221"
            ],
            [
             1,
             "#276419"
            ]
           ],
           "sequential": [
            [
             0,
             "#0d0887"
            ],
            [
             0.1111111111111111,
             "#46039f"
            ],
            [
             0.2222222222222222,
             "#7201a8"
            ],
            [
             0.3333333333333333,
             "#9c179e"
            ],
            [
             0.4444444444444444,
             "#bd3786"
            ],
            [
             0.5555555555555556,
             "#d8576b"
            ],
            [
             0.6666666666666666,
             "#ed7953"
            ],
            [
             0.7777777777777778,
             "#fb9f3a"
            ],
            [
             0.8888888888888888,
             "#fdca26"
            ],
            [
             1,
             "#f0f921"
            ]
           ],
           "sequentialminus": [
            [
             0,
             "#0d0887"
            ],
            [
             0.1111111111111111,
             "#46039f"
            ],
            [
             0.2222222222222222,
             "#7201a8"
            ],
            [
             0.3333333333333333,
             "#9c179e"
            ],
            [
             0.4444444444444444,
             "#bd3786"
            ],
            [
             0.5555555555555556,
             "#d8576b"
            ],
            [
             0.6666666666666666,
             "#ed7953"
            ],
            [
             0.7777777777777778,
             "#fb9f3a"
            ],
            [
             0.8888888888888888,
             "#fdca26"
            ],
            [
             1,
             "#f0f921"
            ]
           ]
          },
          "colorway": [
           "#636efa",
           "#EF553B",
           "#00cc96",
           "#ab63fa",
           "#FFA15A",
           "#19d3f3",
           "#FF6692",
           "#B6E880",
           "#FF97FF",
           "#FECB52"
          ],
          "font": {
           "color": "#2a3f5f"
          },
          "geo": {
           "bgcolor": "white",
           "lakecolor": "white",
           "landcolor": "#E5ECF6",
           "showlakes": true,
           "showland": true,
           "subunitcolor": "white"
          },
          "hoverlabel": {
           "align": "left"
          },
          "hovermode": "closest",
          "mapbox": {
           "style": "light"
          },
          "paper_bgcolor": "white",
          "plot_bgcolor": "#E5ECF6",
          "polar": {
           "angularaxis": {
            "gridcolor": "white",
            "linecolor": "white",
            "ticks": ""
           },
           "bgcolor": "#E5ECF6",
           "radialaxis": {
            "gridcolor": "white",
            "linecolor": "white",
            "ticks": ""
           }
          },
          "scene": {
           "xaxis": {
            "backgroundcolor": "#E5ECF6",
            "gridcolor": "white",
            "gridwidth": 2,
            "linecolor": "white",
            "showbackground": true,
            "ticks": "",
            "zerolinecolor": "white"
           },
           "yaxis": {
            "backgroundcolor": "#E5ECF6",
            "gridcolor": "white",
            "gridwidth": 2,
            "linecolor": "white",
            "showbackground": true,
            "ticks": "",
            "zerolinecolor": "white"
           },
           "zaxis": {
            "backgroundcolor": "#E5ECF6",
            "gridcolor": "white",
            "gridwidth": 2,
            "linecolor": "white",
            "showbackground": true,
            "ticks": "",
            "zerolinecolor": "white"
           }
          },
          "shapedefaults": {
           "line": {
            "color": "#2a3f5f"
           }
          },
          "ternary": {
           "aaxis": {
            "gridcolor": "white",
            "linecolor": "white",
            "ticks": ""
           },
           "baxis": {
            "gridcolor": "white",
            "linecolor": "white",
            "ticks": ""
           },
           "bgcolor": "#E5ECF6",
           "caxis": {
            "gridcolor": "white",
            "linecolor": "white",
            "ticks": ""
           }
          },
          "title": {
           "x": 0.05
          },
          "xaxis": {
           "automargin": true,
           "gridcolor": "white",
           "linecolor": "white",
           "ticks": "",
           "title": {
            "standoff": 15
           },
           "zerolinecolor": "white",
           "zerolinewidth": 2
          },
          "yaxis": {
           "automargin": true,
           "gridcolor": "white",
           "linecolor": "white",
           "ticks": "",
           "title": {
            "standoff": 15
           },
           "zerolinecolor": "white",
           "zerolinewidth": 2
          }
         }
        },
        "title": {
         "text": "Difference of Effectiveness of AMPs vs CAP-18 WT against Methanogen species"
        },
        "width": 800,
        "xaxis": {
         "anchor": "y",
         "domain": [
          0,
          1
         ],
         "title": {
          "text": "Methanogen species"
         }
        },
        "yaxis": {
         "anchor": "x",
         "domain": [
          0,
          1
         ],
         "title": {
          "text": "AMPs"
         }
        }
       }
      }
     },
     "metadata": {},
     "output_type": "display_data"
    }
   ],
   "source": [
    "# graph\n",
    "fig = px.density_heatmap(AMP10uM, \n",
    "                         x = \"Methanogen_species\", \n",
    "                         y= \"AMP_ID\", \n",
    "                         z = \"delta\", \n",
    "                         histfunc=\"avg\",\n",
    "                         width = 800, \n",
    "                         height = 600, \n",
    "                         color_continuous_scale=\"RdBu\"\n",
    "                         )\n",
    "fig.update_coloraxes(colorbar_title=\"Delta Proportion\")\n",
    "fig.update_layout(title=\"Difference of Effectiveness of AMPs vs CAP-18 WT against Methanogen species\", yaxis_title = \"AMPs\", xaxis_title =\"Methanogen species\")\n",
    "fig.update_layout(coloraxis = dict(cmin = -0.5, cmax = 0.5))\n",
    "fig.show(renderer='vscode')"
   ]
  },
  {
   "cell_type": "markdown",
   "id": "c8fdef49",
   "metadata": {},
   "source": [
    "We can see that all samples of the AMPs \"ai-21-10-3\", \"ai-21-m10\", \"m10-2\", and \"m10-7\" were less effective than the control \"CAP-18WT\" in the E.coli species tested, it's also intereating to note that many AMPs for E.coli was less effective than CAP-18 WT, where around half is extremely less effective (> 0.5) while the other half is somewhat less effective.\n",
    "On the flipside, only \"ai21-m3\" was more effective than the control group in all specieces. It's also worthy to note that m3-6 was less effective in E.coli, but is effective in all other species, with the values being more \"polarized.\"\n",
    "Another interesting thing is that the M.ruminantium species had more effective AMPs, but around half had the same effectiveness as \"CAP-18 WT\""
   ]
  },
  {
   "cell_type": "code",
   "execution_count": null,
   "id": "720edf02",
   "metadata": {},
   "outputs": [
    {
     "data": {
      "application/vnd.plotly.v1+json": {
       "config": {
        "plotlyServerURL": "https://plot.ly"
       },
       "data": [
        {
         "hovertemplate": "delta=%{x}<br>AMP_ID=%{text}<extra></extra>",
         "legendgroup": "",
         "line": {
          "color": "#636efa",
          "dash": "solid"
         },
         "marker": {
          "size": 25,
          "symbol": "square"
         },
         "mode": "lines+markers+text",
         "name": "",
         "orientation": "h",
         "showlegend": false,
         "text": [
          "ai21-10-3",
          "ai21-3-10",
          "ai21-3-10m10",
          "ai21-m10",
          "ai21-m3",
          "combo-gr",
          "m10-2",
          "m10-3",
          "m10-4",
          "m10-6",
          "m10-7",
          "m10-m3",
          "m3-1",
          "m3-3",
          "m3-4",
          "m3-5",
          "m3-6",
          "m3-7",
          "m3-m10",
          "n7-trim-m10",
          "n7-trim-m10m3",
          "n7-trim-m3",
          "n7-trim-m3m10",
          "q22r_q25r",
          "r10g_n11r"
         ],
         "type": "scatter",
         "x": {
          "bdata": "N5De2MmB7b+LKBB6BnLBv1o9Yl3Rtt6/tw54uIF87r9y888GDeHOPwi6xzV0jLa/bYs4cBRT678AhAyN9+mxvwLQqCBYjqK/v/6opcJEsr8Jos3rawrwv5XX6xMohsW/bncm0vPBxb/Y+MEpKX6/v/lfOyQbu7O/7M+fLkXQmr/yYId+o2+6PwHlgkl/orm/LszidPuXuL9lvSSU++myP3GEsw/Kwbo/R9bTDgxjvD9h9XXmHBayP+xf1bJoJsO/GLasxdIxvL8=",
          "dtype": "f8"
         },
         "xaxis": "x",
         "y": [
          "ai21-10-3",
          "ai21-3-10",
          "ai21-3-10m10",
          "ai21-m10",
          "ai21-m3",
          "combo-gr",
          "m10-2",
          "m10-3",
          "m10-4",
          "m10-6",
          "m10-7",
          "m10-m3",
          "m3-1",
          "m3-3",
          "m3-4",
          "m3-5",
          "m3-6",
          "m3-7",
          "m3-m10",
          "n7-trim-m10",
          "n7-trim-m10m3",
          "n7-trim-m3",
          "n7-trim-m3m10",
          "q22r_q25r",
          "r10g_n11r"
         ],
         "yaxis": "y"
        }
       ],
       "layout": {
        "height": 800,
        "legend": {
         "tracegroupgap": 0
        },
        "margin": {
         "t": 60
        },
        "shapes": [
         {
          "line": {
           "dash": "dash"
          },
          "type": "line",
          "x0": 0,
          "x1": 0,
          "xref": "x",
          "y0": 0,
          "y1": 1,
          "yref": "y domain"
         }
        ],
        "template": {
         "data": {
          "bar": [
           {
            "error_x": {
             "color": "#2a3f5f"
            },
            "error_y": {
             "color": "#2a3f5f"
            },
            "marker": {
             "line": {
              "color": "#E5ECF6",
              "width": 0.5
             },
             "pattern": {
              "fillmode": "overlay",
              "size": 10,
              "solidity": 0.2
             }
            },
            "type": "bar"
           }
          ],
          "barpolar": [
           {
            "marker": {
             "line": {
              "color": "#E5ECF6",
              "width": 0.5
             },
             "pattern": {
              "fillmode": "overlay",
              "size": 10,
              "solidity": 0.2
             }
            },
            "type": "barpolar"
           }
          ],
          "carpet": [
           {
            "aaxis": {
             "endlinecolor": "#2a3f5f",
             "gridcolor": "white",
             "linecolor": "white",
             "minorgridcolor": "white",
             "startlinecolor": "#2a3f5f"
            },
            "baxis": {
             "endlinecolor": "#2a3f5f",
             "gridcolor": "white",
             "linecolor": "white",
             "minorgridcolor": "white",
             "startlinecolor": "#2a3f5f"
            },
            "type": "carpet"
           }
          ],
          "choropleth": [
           {
            "colorbar": {
             "outlinewidth": 0,
             "ticks": ""
            },
            "type": "choropleth"
           }
          ],
          "contour": [
           {
            "colorbar": {
             "outlinewidth": 0,
             "ticks": ""
            },
            "colorscale": [
             [
              0,
              "#0d0887"
             ],
             [
              0.1111111111111111,
              "#46039f"
             ],
             [
              0.2222222222222222,
              "#7201a8"
             ],
             [
              0.3333333333333333,
              "#9c179e"
             ],
             [
              0.4444444444444444,
              "#bd3786"
             ],
             [
              0.5555555555555556,
              "#d8576b"
             ],
             [
              0.6666666666666666,
              "#ed7953"
             ],
             [
              0.7777777777777778,
              "#fb9f3a"
             ],
             [
              0.8888888888888888,
              "#fdca26"
             ],
             [
              1,
              "#f0f921"
             ]
            ],
            "type": "contour"
           }
          ],
          "contourcarpet": [
           {
            "colorbar": {
             "outlinewidth": 0,
             "ticks": ""
            },
            "type": "contourcarpet"
           }
          ],
          "heatmap": [
           {
            "colorbar": {
             "outlinewidth": 0,
             "ticks": ""
            },
            "colorscale": [
             [
              0,
              "#0d0887"
             ],
             [
              0.1111111111111111,
              "#46039f"
             ],
             [
              0.2222222222222222,
              "#7201a8"
             ],
             [
              0.3333333333333333,
              "#9c179e"
             ],
             [
              0.4444444444444444,
              "#bd3786"
             ],
             [
              0.5555555555555556,
              "#d8576b"
             ],
             [
              0.6666666666666666,
              "#ed7953"
             ],
             [
              0.7777777777777778,
              "#fb9f3a"
             ],
             [
              0.8888888888888888,
              "#fdca26"
             ],
             [
              1,
              "#f0f921"
             ]
            ],
            "type": "heatmap"
           }
          ],
          "histogram": [
           {
            "marker": {
             "pattern": {
              "fillmode": "overlay",
              "size": 10,
              "solidity": 0.2
             }
            },
            "type": "histogram"
           }
          ],
          "histogram2d": [
           {
            "colorbar": {
             "outlinewidth": 0,
             "ticks": ""
            },
            "colorscale": [
             [
              0,
              "#0d0887"
             ],
             [
              0.1111111111111111,
              "#46039f"
             ],
             [
              0.2222222222222222,
              "#7201a8"
             ],
             [
              0.3333333333333333,
              "#9c179e"
             ],
             [
              0.4444444444444444,
              "#bd3786"
             ],
             [
              0.5555555555555556,
              "#d8576b"
             ],
             [
              0.6666666666666666,
              "#ed7953"
             ],
             [
              0.7777777777777778,
              "#fb9f3a"
             ],
             [
              0.8888888888888888,
              "#fdca26"
             ],
             [
              1,
              "#f0f921"
             ]
            ],
            "type": "histogram2d"
           }
          ],
          "histogram2dcontour": [
           {
            "colorbar": {
             "outlinewidth": 0,
             "ticks": ""
            },
            "colorscale": [
             [
              0,
              "#0d0887"
             ],
             [
              0.1111111111111111,
              "#46039f"
             ],
             [
              0.2222222222222222,
              "#7201a8"
             ],
             [
              0.3333333333333333,
              "#9c179e"
             ],
             [
              0.4444444444444444,
              "#bd3786"
             ],
             [
              0.5555555555555556,
              "#d8576b"
             ],
             [
              0.6666666666666666,
              "#ed7953"
             ],
             [
              0.7777777777777778,
              "#fb9f3a"
             ],
             [
              0.8888888888888888,
              "#fdca26"
             ],
             [
              1,
              "#f0f921"
             ]
            ],
            "type": "histogram2dcontour"
           }
          ],
          "mesh3d": [
           {
            "colorbar": {
             "outlinewidth": 0,
             "ticks": ""
            },
            "type": "mesh3d"
           }
          ],
          "parcoords": [
           {
            "line": {
             "colorbar": {
              "outlinewidth": 0,
              "ticks": ""
             }
            },
            "type": "parcoords"
           }
          ],
          "pie": [
           {
            "automargin": true,
            "type": "pie"
           }
          ],
          "scatter": [
           {
            "fillpattern": {
             "fillmode": "overlay",
             "size": 10,
             "solidity": 0.2
            },
            "type": "scatter"
           }
          ],
          "scatter3d": [
           {
            "line": {
             "colorbar": {
              "outlinewidth": 0,
              "ticks": ""
             }
            },
            "marker": {
             "colorbar": {
              "outlinewidth": 0,
              "ticks": ""
             }
            },
            "type": "scatter3d"
           }
          ],
          "scattercarpet": [
           {
            "marker": {
             "colorbar": {
              "outlinewidth": 0,
              "ticks": ""
             }
            },
            "type": "scattercarpet"
           }
          ],
          "scattergeo": [
           {
            "marker": {
             "colorbar": {
              "outlinewidth": 0,
              "ticks": ""
             }
            },
            "type": "scattergeo"
           }
          ],
          "scattergl": [
           {
            "marker": {
             "colorbar": {
              "outlinewidth": 0,
              "ticks": ""
             }
            },
            "type": "scattergl"
           }
          ],
          "scattermap": [
           {
            "marker": {
             "colorbar": {
              "outlinewidth": 0,
              "ticks": ""
             }
            },
            "type": "scattermap"
           }
          ],
          "scattermapbox": [
           {
            "marker": {
             "colorbar": {
              "outlinewidth": 0,
              "ticks": ""
             }
            },
            "type": "scattermapbox"
           }
          ],
          "scatterpolar": [
           {
            "marker": {
             "colorbar": {
              "outlinewidth": 0,
              "ticks": ""
             }
            },
            "type": "scatterpolar"
           }
          ],
          "scatterpolargl": [
           {
            "marker": {
             "colorbar": {
              "outlinewidth": 0,
              "ticks": ""
             }
            },
            "type": "scatterpolargl"
           }
          ],
          "scatterternary": [
           {
            "marker": {
             "colorbar": {
              "outlinewidth": 0,
              "ticks": ""
             }
            },
            "type": "scatterternary"
           }
          ],
          "surface": [
           {
            "colorbar": {
             "outlinewidth": 0,
             "ticks": ""
            },
            "colorscale": [
             [
              0,
              "#0d0887"
             ],
             [
              0.1111111111111111,
              "#46039f"
             ],
             [
              0.2222222222222222,
              "#7201a8"
             ],
             [
              0.3333333333333333,
              "#9c179e"
             ],
             [
              0.4444444444444444,
              "#bd3786"
             ],
             [
              0.5555555555555556,
              "#d8576b"
             ],
             [
              0.6666666666666666,
              "#ed7953"
             ],
             [
              0.7777777777777778,
              "#fb9f3a"
             ],
             [
              0.8888888888888888,
              "#fdca26"
             ],
             [
              1,
              "#f0f921"
             ]
            ],
            "type": "surface"
           }
          ],
          "table": [
           {
            "cells": {
             "fill": {
              "color": "#EBF0F8"
             },
             "line": {
              "color": "white"
             }
            },
            "header": {
             "fill": {
              "color": "#C8D4E3"
             },
             "line": {
              "color": "white"
             }
            },
            "type": "table"
           }
          ]
         },
         "layout": {
          "annotationdefaults": {
           "arrowcolor": "#2a3f5f",
           "arrowhead": 0,
           "arrowwidth": 1
          },
          "autotypenumbers": "strict",
          "coloraxis": {
           "colorbar": {
            "outlinewidth": 0,
            "ticks": ""
           }
          },
          "colorscale": {
           "diverging": [
            [
             0,
             "#8e0152"
            ],
            [
             0.1,
             "#c51b7d"
            ],
            [
             0.2,
             "#de77ae"
            ],
            [
             0.3,
             "#f1b6da"
            ],
            [
             0.4,
             "#fde0ef"
            ],
            [
             0.5,
             "#f7f7f7"
            ],
            [
             0.6,
             "#e6f5d0"
            ],
            [
             0.7,
             "#b8e186"
            ],
            [
             0.8,
             "#7fbc41"
            ],
            [
             0.9,
             "#4d9221"
            ],
            [
             1,
             "#276419"
            ]
           ],
           "sequential": [
            [
             0,
             "#0d0887"
            ],
            [
             0.1111111111111111,
             "#46039f"
            ],
            [
             0.2222222222222222,
             "#7201a8"
            ],
            [
             0.3333333333333333,
             "#9c179e"
            ],
            [
             0.4444444444444444,
             "#bd3786"
            ],
            [
             0.5555555555555556,
             "#d8576b"
            ],
            [
             0.6666666666666666,
             "#ed7953"
            ],
            [
             0.7777777777777778,
             "#fb9f3a"
            ],
            [
             0.8888888888888888,
             "#fdca26"
            ],
            [
             1,
             "#f0f921"
            ]
           ],
           "sequentialminus": [
            [
             0,
             "#0d0887"
            ],
            [
             0.1111111111111111,
             "#46039f"
            ],
            [
             0.2222222222222222,
             "#7201a8"
            ],
            [
             0.3333333333333333,
             "#9c179e"
            ],
            [
             0.4444444444444444,
             "#bd3786"
            ],
            [
             0.5555555555555556,
             "#d8576b"
            ],
            [
             0.6666666666666666,
             "#ed7953"
            ],
            [
             0.7777777777777778,
             "#fb9f3a"
            ],
            [
             0.8888888888888888,
             "#fdca26"
            ],
            [
             1,
             "#f0f921"
            ]
           ]
          },
          "colorway": [
           "#636efa",
           "#EF553B",
           "#00cc96",
           "#ab63fa",
           "#FFA15A",
           "#19d3f3",
           "#FF6692",
           "#B6E880",
           "#FF97FF",
           "#FECB52"
          ],
          "font": {
           "color": "#2a3f5f"
          },
          "geo": {
           "bgcolor": "white",
           "lakecolor": "white",
           "landcolor": "#E5ECF6",
           "showlakes": true,
           "showland": true,
           "subunitcolor": "white"
          },
          "hoverlabel": {
           "align": "left"
          },
          "hovermode": "closest",
          "mapbox": {
           "style": "light"
          },
          "paper_bgcolor": "white",
          "plot_bgcolor": "#E5ECF6",
          "polar": {
           "angularaxis": {
            "gridcolor": "white",
            "linecolor": "white",
            "ticks": ""
           },
           "bgcolor": "#E5ECF6",
           "radialaxis": {
            "gridcolor": "white",
            "linecolor": "white",
            "ticks": ""
           }
          },
          "scene": {
           "xaxis": {
            "backgroundcolor": "#E5ECF6",
            "gridcolor": "white",
            "gridwidth": 2,
            "linecolor": "white",
            "showbackground": true,
            "ticks": "",
            "zerolinecolor": "white"
           },
           "yaxis": {
            "backgroundcolor": "#E5ECF6",
            "gridcolor": "white",
            "gridwidth": 2,
            "linecolor": "white",
            "showbackground": true,
            "ticks": "",
            "zerolinecolor": "white"
           },
           "zaxis": {
            "backgroundcolor": "#E5ECF6",
            "gridcolor": "white",
            "gridwidth": 2,
            "linecolor": "white",
            "showbackground": true,
            "ticks": "",
            "zerolinecolor": "white"
           }
          },
          "shapedefaults": {
           "line": {
            "color": "#2a3f5f"
           }
          },
          "ternary": {
           "aaxis": {
            "gridcolor": "white",
            "linecolor": "white",
            "ticks": ""
           },
           "baxis": {
            "gridcolor": "white",
            "linecolor": "white",
            "ticks": ""
           },
           "bgcolor": "#E5ECF6",
           "caxis": {
            "gridcolor": "white",
            "linecolor": "white",
            "ticks": ""
           }
          },
          "title": {
           "x": 0.05
          },
          "xaxis": {
           "automargin": true,
           "gridcolor": "white",
           "linecolor": "white",
           "ticks": "",
           "title": {
            "standoff": 15
           },
           "zerolinecolor": "white",
           "zerolinewidth": 2
          },
          "yaxis": {
           "automargin": true,
           "gridcolor": "white",
           "linecolor": "white",
           "ticks": "",
           "title": {
            "standoff": 15
           },
           "zerolinecolor": "white",
           "zerolinewidth": 2
          }
         }
        },
        "title": {
         "text": "Difference of Effectiveness of AMPs vs CAP-18 WT against all Methanogen species"
        },
        "xaxis": {
         "anchor": "y",
         "autorange": "reversed",
         "domain": [
          0,
          1
         ],
         "range": [
          0.3,
          -0.3
         ],
         "title": {
          "text": "average effectiveness"
         }
        },
        "yaxis": {
         "anchor": "x",
         "autorange": "reversed",
         "domain": [
          0,
          1
         ],
         "title": {
          "text": "AMP_ID"
         },
         "visible": false
        }
       }
      }
     },
     "metadata": {},
     "output_type": "display_data"
    }
   ],
   "source": [
    "# adding my own shape, yay.\n",
    "shape = go.Figure()\n",
    "shape.add_shape(\n",
    "    type=\"circle\",  # cirlce blah blah bah\n",
    "    xref=\"x\", yref=\"y\",\n",
    "    x0=1, y0=1, x1=5, y1=3,  # bounds\n",
    "    fillcolor=\"LightSkyBlue\",\n",
    "    line_color=\"RoyalBlue\",\n",
    "    opacity=0.7,\n",
    "    layer=\"below\"\n",
    ")\n",
    "# TODO: fix this dumb bullshit\n",
    "avg_by_species = AMP10uM.groupby(\"AMP_ID\")[\"delta\"].mean().reset_index(drop=False)\n",
    "fig = px.line(avg_by_species, x = \"delta\", y = \"AMP_ID\", markers=True, height = 800, text = \"AMP_ID\")\n",
    "fig.update_layout(title=\"Difference of Effectiveness of AMPs vs CAP-18 WT against all Methanogen species\", \n",
    "                  xaxis_title = \"average effectiveness\", \n",
    "                  yaxis=dict(autorange=\"reversed\", visible = False),\n",
    "                  xaxis = dict(autorange = \"reversed\", range = [0.3, -0.3]))\n",
    "\n",
    "fig.update_traces(marker = dict(size=25, symbol = \"square\"))\n",
    "fig.add_vline(x = 0, line_dash = \"dash\")\n",
    "\n",
    "# cannot figure out how to make pills lmfao"
   ]
  },
  {
   "cell_type": "markdown",
   "id": "6e6a984b",
   "metadata": {},
   "source": [
    "We can see that all AMPs frmo the \"n7-trim\" group are all on average, slightly better than to the control \"CAP-18 WT\""
   ]
  },
  {
   "cell_type": "code",
   "execution_count": null,
   "id": "1f40df67",
   "metadata": {},
   "outputs": [
    {
     "data": {
      "text/html": [
       "<div>\n",
       "<style scoped>\n",
       "    .dataframe tbody tr th:only-of-type {\n",
       "        vertical-align: middle;\n",
       "    }\n",
       "\n",
       "    .dataframe tbody tr th {\n",
       "        vertical-align: top;\n",
       "    }\n",
       "\n",
       "    .dataframe thead th {\n",
       "        text-align: right;\n",
       "    }\n",
       "</style>\n",
       "<table border=\"1\" class=\"dataframe\">\n",
       "  <thead>\n",
       "    <tr style=\"text-align: right;\">\n",
       "      <th></th>\n",
       "      <th>amps</th>\n",
       "      <th>E.coli</th>\n",
       "      <th>M.boviskoreani</th>\n",
       "      <th>M.gottschalkii</th>\n",
       "      <th>M.ruminantium</th>\n",
       "    </tr>\n",
       "  </thead>\n",
       "  <tbody>\n",
       "    <tr>\n",
       "      <th>0</th>\n",
       "      <td>CAP-18 WT</td>\n",
       "      <td>0.0</td>\n",
       "      <td>0.0</td>\n",
       "      <td>0.0</td>\n",
       "      <td>0.0</td>\n",
       "    </tr>\n",
       "    <tr>\n",
       "      <th>1</th>\n",
       "      <td>ai21-10-3</td>\n",
       "      <td>0.0</td>\n",
       "      <td>0.0</td>\n",
       "      <td>0.0</td>\n",
       "      <td>NaN</td>\n",
       "    </tr>\n",
       "    <tr>\n",
       "      <th>2</th>\n",
       "      <td>ai21-3-10</td>\n",
       "      <td>0.0</td>\n",
       "      <td>0.0</td>\n",
       "      <td>0.0</td>\n",
       "      <td>1.0</td>\n",
       "    </tr>\n",
       "    <tr>\n",
       "      <th>3</th>\n",
       "      <td>ai21-3-10m10</td>\n",
       "      <td>0.0</td>\n",
       "      <td>NaN</td>\n",
       "      <td>NaN</td>\n",
       "      <td>NaN</td>\n",
       "    </tr>\n",
       "    <tr>\n",
       "      <th>4</th>\n",
       "      <td>ai21-m10</td>\n",
       "      <td>0.0</td>\n",
       "      <td>0.0</td>\n",
       "      <td>0.0</td>\n",
       "      <td>NaN</td>\n",
       "    </tr>\n",
       "    <tr>\n",
       "      <th>5</th>\n",
       "      <td>ai21-m3</td>\n",
       "      <td>1.0</td>\n",
       "      <td>1.0</td>\n",
       "      <td>1.0</td>\n",
       "      <td>1.0</td>\n",
       "    </tr>\n",
       "    <tr>\n",
       "      <th>6</th>\n",
       "      <td>combo-gr</td>\n",
       "      <td>0.0</td>\n",
       "      <td>0.0</td>\n",
       "      <td>0.0</td>\n",
       "      <td>NaN</td>\n",
       "    </tr>\n",
       "    <tr>\n",
       "      <th>7</th>\n",
       "      <td>m10-2</td>\n",
       "      <td>0.0</td>\n",
       "      <td>0.0</td>\n",
       "      <td>0.0</td>\n",
       "      <td>NaN</td>\n",
       "    </tr>\n",
       "    <tr>\n",
       "      <th>8</th>\n",
       "      <td>m10-3</td>\n",
       "      <td>0.0</td>\n",
       "      <td>0.0</td>\n",
       "      <td>1.0</td>\n",
       "      <td>1.0</td>\n",
       "    </tr>\n",
       "    <tr>\n",
       "      <th>9</th>\n",
       "      <td>m10-4</td>\n",
       "      <td>0.0</td>\n",
       "      <td>0.0</td>\n",
       "      <td>0.0</td>\n",
       "      <td>1.0</td>\n",
       "    </tr>\n",
       "    <tr>\n",
       "      <th>10</th>\n",
       "      <td>m10-6</td>\n",
       "      <td>0.0</td>\n",
       "      <td>0.0</td>\n",
       "      <td>1.0</td>\n",
       "      <td>1.0</td>\n",
       "    </tr>\n",
       "    <tr>\n",
       "      <th>11</th>\n",
       "      <td>m10-7</td>\n",
       "      <td>0.0</td>\n",
       "      <td>0.0</td>\n",
       "      <td>0.0</td>\n",
       "      <td>NaN</td>\n",
       "    </tr>\n",
       "    <tr>\n",
       "      <th>12</th>\n",
       "      <td>m10-m3</td>\n",
       "      <td>0.0</td>\n",
       "      <td>0.0</td>\n",
       "      <td>1.0</td>\n",
       "      <td>0.0</td>\n",
       "    </tr>\n",
       "    <tr>\n",
       "      <th>13</th>\n",
       "      <td>m3-1</td>\n",
       "      <td>0.0</td>\n",
       "      <td>0.0</td>\n",
       "      <td>1.0</td>\n",
       "      <td>0.0</td>\n",
       "    </tr>\n",
       "    <tr>\n",
       "      <th>14</th>\n",
       "      <td>m3-3</td>\n",
       "      <td>0.0</td>\n",
       "      <td>1.0</td>\n",
       "      <td>1.0</td>\n",
       "      <td>NaN</td>\n",
       "    </tr>\n",
       "    <tr>\n",
       "      <th>15</th>\n",
       "      <td>m3-4</td>\n",
       "      <td>0.0</td>\n",
       "      <td>0.0</td>\n",
       "      <td>1.0</td>\n",
       "      <td>NaN</td>\n",
       "    </tr>\n",
       "    <tr>\n",
       "      <th>16</th>\n",
       "      <td>m3-5</td>\n",
       "      <td>0.0</td>\n",
       "      <td>1.0</td>\n",
       "      <td>1.0</td>\n",
       "      <td>1.0</td>\n",
       "    </tr>\n",
       "    <tr>\n",
       "      <th>17</th>\n",
       "      <td>m3-6</td>\n",
       "      <td>0.0</td>\n",
       "      <td>1.0</td>\n",
       "      <td>1.0</td>\n",
       "      <td>1.0</td>\n",
       "    </tr>\n",
       "    <tr>\n",
       "      <th>18</th>\n",
       "      <td>m3-7</td>\n",
       "      <td>0.0</td>\n",
       "      <td>0.0</td>\n",
       "      <td>1.0</td>\n",
       "      <td>1.0</td>\n",
       "    </tr>\n",
       "    <tr>\n",
       "      <th>19</th>\n",
       "      <td>m3-m10</td>\n",
       "      <td>0.0</td>\n",
       "      <td>0.0</td>\n",
       "      <td>1.0</td>\n",
       "      <td>0.0</td>\n",
       "    </tr>\n",
       "    <tr>\n",
       "      <th>20</th>\n",
       "      <td>n7-trim-m10</td>\n",
       "      <td>1.0</td>\n",
       "      <td>1.0</td>\n",
       "      <td>1.0</td>\n",
       "      <td>NaN</td>\n",
       "    </tr>\n",
       "    <tr>\n",
       "      <th>21</th>\n",
       "      <td>n7-trim-m10m3</td>\n",
       "      <td>0.0</td>\n",
       "      <td>1.0</td>\n",
       "      <td>1.0</td>\n",
       "      <td>1.0</td>\n",
       "    </tr>\n",
       "    <tr>\n",
       "      <th>22</th>\n",
       "      <td>n7-trim-m3</td>\n",
       "      <td>0.0</td>\n",
       "      <td>1.0</td>\n",
       "      <td>1.0</td>\n",
       "      <td>NaN</td>\n",
       "    </tr>\n",
       "    <tr>\n",
       "      <th>23</th>\n",
       "      <td>n7-trim-m3m10</td>\n",
       "      <td>NaN</td>\n",
       "      <td>0.0</td>\n",
       "      <td>1.0</td>\n",
       "      <td>1.0</td>\n",
       "    </tr>\n",
       "    <tr>\n",
       "      <th>24</th>\n",
       "      <td>q22r_q25r</td>\n",
       "      <td>0.0</td>\n",
       "      <td>0.0</td>\n",
       "      <td>0.0</td>\n",
       "      <td>NaN</td>\n",
       "    </tr>\n",
       "    <tr>\n",
       "      <th>25</th>\n",
       "      <td>r10g_n11r</td>\n",
       "      <td>0.0</td>\n",
       "      <td>1.0</td>\n",
       "      <td>0.0</td>\n",
       "      <td>NaN</td>\n",
       "    </tr>\n",
       "  </tbody>\n",
       "</table>\n",
       "</div>"
      ],
      "text/plain": [
       "             amps  E.coli  M.boviskoreani  M.gottschalkii  M.ruminantium\n",
       "0       CAP-18 WT     0.0             0.0             0.0            0.0\n",
       "1       ai21-10-3     0.0             0.0             0.0            NaN\n",
       "2       ai21-3-10     0.0             0.0             0.0            1.0\n",
       "3    ai21-3-10m10     0.0             NaN             NaN            NaN\n",
       "4        ai21-m10     0.0             0.0             0.0            NaN\n",
       "5         ai21-m3     1.0             1.0             1.0            1.0\n",
       "6        combo-gr     0.0             0.0             0.0            NaN\n",
       "7           m10-2     0.0             0.0             0.0            NaN\n",
       "8           m10-3     0.0             0.0             1.0            1.0\n",
       "9           m10-4     0.0             0.0             0.0            1.0\n",
       "10          m10-6     0.0             0.0             1.0            1.0\n",
       "11          m10-7     0.0             0.0             0.0            NaN\n",
       "12         m10-m3     0.0             0.0             1.0            0.0\n",
       "13           m3-1     0.0             0.0             1.0            0.0\n",
       "14           m3-3     0.0             1.0             1.0            NaN\n",
       "15           m3-4     0.0             0.0             1.0            NaN\n",
       "16           m3-5     0.0             1.0             1.0            1.0\n",
       "17           m3-6     0.0             1.0             1.0            1.0\n",
       "18           m3-7     0.0             0.0             1.0            1.0\n",
       "19         m3-m10     0.0             0.0             1.0            0.0\n",
       "20    n7-trim-m10     1.0             1.0             1.0            NaN\n",
       "21  n7-trim-m10m3     0.0             1.0             1.0            1.0\n",
       "22     n7-trim-m3     0.0             1.0             1.0            NaN\n",
       "23  n7-trim-m3m10     NaN             0.0             1.0            1.0\n",
       "24      q22r_q25r     0.0             0.0             0.0            NaN\n",
       "25      r10g_n11r     0.0             1.0             0.0            NaN"
      ]
     },
     "execution_count": 110,
     "metadata": {},
     "output_type": "execute_result"
    }
   ],
   "source": [
    "#Attempting the spearman's rank correleation test\n",
    "\n",
    "# pisses me off sm\n",
    "import warnings\n",
    "warnings.simplefilter(action='ignore', category=FutureWarning)\n",
    "\n",
    "# attemping to create a df w/ 1 and zeros correspoind of they are sufficient enough\n",
    "listy_list = pd.DataFrame()\n",
    "\n",
    "listy_list[\"amps\"] = AMP_list\n",
    "for species in species_list:\n",
    "    spec_list = AMP10uMGrouped[AMP10uMGrouped[\"Methanogen_species\"] == species].copy()\n",
    "    new_rows = []\n",
    "    for AMPs in AMP_list:\n",
    "        if AMPs not in spec_list[\"AMP_ID\"].tolist():\n",
    "            new_rows.append({ # creating NaN values for species not tested \n",
    "                \"AMP_ID\": AMPs,\n",
    "                \"Methanogen_species\": species,\n",
    "                \"Concentration\": None,\n",
    "                \"Incubation_time\": None,\n",
    "                \"filesource\": None,\n",
    "                \"percent_growth_inhibition_compared_to_no_addition_ctrl\": None,\n",
    "                \"delta\": None,\n",
    "                \"sufficient?\": None\n",
    "            })\n",
    "    if new_rows:\n",
    "        spec_list = pd.concat([spec_list, pd.DataFrame(new_rows)], ignore_index=True)\n",
    "    spec_list = spec_list.sort_values(\"AMP_ID\", ascending = True)\n",
    "    species_success_list = spec_list[\"sufficient?\"].tolist()\n",
    "    listy_list[species] = species_success_list\n",
    "    species_success_list = []\n",
    "# this took way longer than what i anticpated\n",
    "\n",
    "listy_list"
   ]
  },
  {
   "cell_type": "code",
   "execution_count": 111,
   "id": "a1896a6a",
   "metadata": {},
   "outputs": [
    {
     "name": "stdout",
     "output_type": "stream",
     "text": [
      "spearman's rank corrlation between E.coli and M.boviskoreani\n",
      "Spearman's Rank Correlation Coefficient: 0.42640143271122094\n",
      "P-value: 0.037727624056725056\n",
      "\n",
      "spearman's rank corrlation between E.coli and M.gottschalkii\n",
      "Spearman's Rank Correlation Coefficient: 0.2548235957188128\n",
      "P-value: 0.2294814590497754\n",
      "\n",
      "spearman's rank corrlation between E.coli and M.ruminantium\n",
      "Spearman's Rank Correlation Coefficient: 0.19245008972987523\n",
      "P-value: 0.5287571161014745\n",
      "\n",
      "spearman's rank corrlation between M.boviskoreani and M.gottschalkii\n",
      "Spearman's Rank Correlation Coefficient: 0.3850770231077027\n",
      "P-value: 0.057320345818545906\n",
      "\n",
      "spearman's rank corrlation between M.boviskoreani and M.ruminantium\n",
      "Spearman's Rank Correlation Coefficient: 0.4000000000000001\n",
      "P-value: 0.15644958191999983\n",
      "\n",
      "spearman's rank corrlation between M.gottschalkii and M.ruminantium\n",
      "Spearman's Rank Correlation Coefficient: 0.05504818825631804\n",
      "P-value: 0.8517327152291266\n",
      "\n"
     ]
    }
   ],
   "source": [
    "# now to the real thing, we are using a non parametric test b/c we cannot prove that the samples are normally distrubtued\n",
    "from scipy.stats import spearmanr\n",
    "import itertools\n",
    "\n",
    "lists = [\n",
    "    listy_list[\"E.coli\"].tolist(),\n",
    "    listy_list[\"M.boviskoreani\"].tolist(),\n",
    "    listy_list[\"M.gottschalkii\"].tolist(),\n",
    "    listy_list[\"M.ruminantium\"].tolist()\n",
    "         ]\n",
    "names = ['E.coli', 'M.boviskoreani', 'M.gottschalkii', 'M.ruminantium']\n",
    "\n",
    "for (n1, l1), (n2, l2) in itertools.combinations(zip(names, lists), 2):\n",
    "\n",
    "    l1 = np.array(l1)\n",
    "    l2 = np.array(l2)\n",
    "\n",
    "    # create a mask for where both values are not NaN\n",
    "    mask = ~np.isnan(l1) & ~np.isnan(l2)\n",
    "\n",
    "    l1 = l1[mask]\n",
    "    l2 = l2[mask]\n",
    "    print(\"spearman's rank corrlation between \" + n1 + \" and \" + n2)\n",
    "    correlation, p_value = spearmanr(l1, l2)\n",
    "    print(f\"Spearman's Rank Correlation Coefficient: {correlation}\")\n",
    "    print(f\"P-value: {p_value}\" + \"\\n\")"
   ]
  },
  {
   "cell_type": "markdown",
   "id": "7b5823c6",
   "metadata": {},
   "source": [
    "We can see that between E.coli and M.boviskoreani, there is a statsitcal signifigance between those two if we are assuming below the 5% threshold."
   ]
  },
  {
   "cell_type": "markdown",
   "id": "dbea0cd9",
   "metadata": {},
   "source": [
    "Future questions that will be answered (will be more focused on the groups of AMPs):\n",
    "\n",
    "Do different AMP groups have significantly different effectiveness against methanogens?\n",
    "\n",
    "Do groups naturally cluster by performance or by affected species?\n",
    "\n",
    "Do AMP groups differ in their average inhibition rate or success rate?\n",
    "\n"
   ]
  }
 ],
 "metadata": {
  "kernelspec": {
   "display_name": "Python 3",
   "language": "python",
   "name": "python3"
  },
  "language_info": {
   "codemirror_mode": {
    "name": "ipython",
    "version": 3
   },
   "file_extension": ".py",
   "mimetype": "text/x-python",
   "name": "python",
   "nbconvert_exporter": "python",
   "pygments_lexer": "ipython3",
   "version": "3.13.7"
  }
 },
 "nbformat": 4,
 "nbformat_minor": 5
}
